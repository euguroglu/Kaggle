{
  "nbformat": 4,
  "nbformat_minor": 0,
  "metadata": {
    "colab": {
      "name": "Kaggle_Titanic_Survival_Classification_01.ipynb",
      "provenance": [],
      "authorship_tag": "ABX9TyOd8qK7rPxNnPQvgxQCFtrK",
      "include_colab_link": true
    },
    "kernelspec": {
      "name": "python3",
      "display_name": "Python 3"
    }
  },
  "cells": [
    {
      "cell_type": "markdown",
      "metadata": {
        "id": "view-in-github",
        "colab_type": "text"
      },
      "source": [
        "<a href=\"https://colab.research.google.com/github/euguroglu/Kaggle/blob/master/Kaggle_Titanic_Survival_Classification_01.ipynb\" target=\"_parent\"><img src=\"https://colab.research.google.com/assets/colab-badge.svg\" alt=\"Open In Colab\"/></a>"
      ]
    },
    {
      "cell_type": "markdown",
      "metadata": {
        "id": "xCczTmV5kyXg",
        "colab_type": "text"
      },
      "source": [
        "Importing libraries"
      ]
    },
    {
      "cell_type": "code",
      "metadata": {
        "id": "hPEA_ViTYWih",
        "colab_type": "code",
        "colab": {}
      },
      "source": [
        "import torch\n",
        "import numpy as np\n",
        "import matplotlib.pyplot as plt\n",
        "import torch.nn as nn\n",
        "import pandas as pd\n",
        "import math\n",
        "from sklearn.preprocessing import StandardScaler\n",
        "from matplotlib.pyplot import figure"
      ],
      "execution_count": 60,
      "outputs": []
    },
    {
      "cell_type": "markdown",
      "metadata": {
        "id": "oJ6TfT6wk1nf",
        "colab_type": "text"
      },
      "source": [
        "Data check and preperation"
      ]
    },
    {
      "cell_type": "code",
      "metadata": {
        "id": "xD5F0s8eYjn5",
        "colab_type": "code",
        "colab": {}
      },
      "source": [
        "df = pd.read_csv('train.csv')"
      ],
      "execution_count": 61,
      "outputs": []
    },
    {
      "cell_type": "code",
      "metadata": {
        "id": "C5-b1IwbYpqU",
        "colab_type": "code",
        "colab": {
          "base_uri": "https://localhost:8080/",
          "height": 419
        },
        "outputId": "06f7ca73-7940-4df8-f07c-d3cba81c2de8"
      },
      "source": [
        "df"
      ],
      "execution_count": 62,
      "outputs": [
        {
          "output_type": "execute_result",
          "data": {
            "text/html": [
              "<div>\n",
              "<style scoped>\n",
              "    .dataframe tbody tr th:only-of-type {\n",
              "        vertical-align: middle;\n",
              "    }\n",
              "\n",
              "    .dataframe tbody tr th {\n",
              "        vertical-align: top;\n",
              "    }\n",
              "\n",
              "    .dataframe thead th {\n",
              "        text-align: right;\n",
              "    }\n",
              "</style>\n",
              "<table border=\"1\" class=\"dataframe\">\n",
              "  <thead>\n",
              "    <tr style=\"text-align: right;\">\n",
              "      <th></th>\n",
              "      <th>PassengerId</th>\n",
              "      <th>Survived</th>\n",
              "      <th>Pclass</th>\n",
              "      <th>Name</th>\n",
              "      <th>Sex</th>\n",
              "      <th>Age</th>\n",
              "      <th>SibSp</th>\n",
              "      <th>Parch</th>\n",
              "      <th>Ticket</th>\n",
              "      <th>Fare</th>\n",
              "      <th>Cabin</th>\n",
              "      <th>Embarked</th>\n",
              "    </tr>\n",
              "  </thead>\n",
              "  <tbody>\n",
              "    <tr>\n",
              "      <th>0</th>\n",
              "      <td>1</td>\n",
              "      <td>0</td>\n",
              "      <td>3</td>\n",
              "      <td>Braund, Mr. Owen Harris</td>\n",
              "      <td>male</td>\n",
              "      <td>22.0</td>\n",
              "      <td>1</td>\n",
              "      <td>0</td>\n",
              "      <td>A/5 21171</td>\n",
              "      <td>7.2500</td>\n",
              "      <td>NaN</td>\n",
              "      <td>S</td>\n",
              "    </tr>\n",
              "    <tr>\n",
              "      <th>1</th>\n",
              "      <td>2</td>\n",
              "      <td>1</td>\n",
              "      <td>1</td>\n",
              "      <td>Cumings, Mrs. John Bradley (Florence Briggs Th...</td>\n",
              "      <td>female</td>\n",
              "      <td>38.0</td>\n",
              "      <td>1</td>\n",
              "      <td>0</td>\n",
              "      <td>PC 17599</td>\n",
              "      <td>71.2833</td>\n",
              "      <td>C85</td>\n",
              "      <td>C</td>\n",
              "    </tr>\n",
              "    <tr>\n",
              "      <th>2</th>\n",
              "      <td>3</td>\n",
              "      <td>1</td>\n",
              "      <td>3</td>\n",
              "      <td>Heikkinen, Miss. Laina</td>\n",
              "      <td>female</td>\n",
              "      <td>26.0</td>\n",
              "      <td>0</td>\n",
              "      <td>0</td>\n",
              "      <td>STON/O2. 3101282</td>\n",
              "      <td>7.9250</td>\n",
              "      <td>NaN</td>\n",
              "      <td>S</td>\n",
              "    </tr>\n",
              "    <tr>\n",
              "      <th>3</th>\n",
              "      <td>4</td>\n",
              "      <td>1</td>\n",
              "      <td>1</td>\n",
              "      <td>Futrelle, Mrs. Jacques Heath (Lily May Peel)</td>\n",
              "      <td>female</td>\n",
              "      <td>35.0</td>\n",
              "      <td>1</td>\n",
              "      <td>0</td>\n",
              "      <td>113803</td>\n",
              "      <td>53.1000</td>\n",
              "      <td>C123</td>\n",
              "      <td>S</td>\n",
              "    </tr>\n",
              "    <tr>\n",
              "      <th>4</th>\n",
              "      <td>5</td>\n",
              "      <td>0</td>\n",
              "      <td>3</td>\n",
              "      <td>Allen, Mr. William Henry</td>\n",
              "      <td>male</td>\n",
              "      <td>35.0</td>\n",
              "      <td>0</td>\n",
              "      <td>0</td>\n",
              "      <td>373450</td>\n",
              "      <td>8.0500</td>\n",
              "      <td>NaN</td>\n",
              "      <td>S</td>\n",
              "    </tr>\n",
              "    <tr>\n",
              "      <th>...</th>\n",
              "      <td>...</td>\n",
              "      <td>...</td>\n",
              "      <td>...</td>\n",
              "      <td>...</td>\n",
              "      <td>...</td>\n",
              "      <td>...</td>\n",
              "      <td>...</td>\n",
              "      <td>...</td>\n",
              "      <td>...</td>\n",
              "      <td>...</td>\n",
              "      <td>...</td>\n",
              "      <td>...</td>\n",
              "    </tr>\n",
              "    <tr>\n",
              "      <th>886</th>\n",
              "      <td>887</td>\n",
              "      <td>0</td>\n",
              "      <td>2</td>\n",
              "      <td>Montvila, Rev. Juozas</td>\n",
              "      <td>male</td>\n",
              "      <td>27.0</td>\n",
              "      <td>0</td>\n",
              "      <td>0</td>\n",
              "      <td>211536</td>\n",
              "      <td>13.0000</td>\n",
              "      <td>NaN</td>\n",
              "      <td>S</td>\n",
              "    </tr>\n",
              "    <tr>\n",
              "      <th>887</th>\n",
              "      <td>888</td>\n",
              "      <td>1</td>\n",
              "      <td>1</td>\n",
              "      <td>Graham, Miss. Margaret Edith</td>\n",
              "      <td>female</td>\n",
              "      <td>19.0</td>\n",
              "      <td>0</td>\n",
              "      <td>0</td>\n",
              "      <td>112053</td>\n",
              "      <td>30.0000</td>\n",
              "      <td>B42</td>\n",
              "      <td>S</td>\n",
              "    </tr>\n",
              "    <tr>\n",
              "      <th>888</th>\n",
              "      <td>889</td>\n",
              "      <td>0</td>\n",
              "      <td>3</td>\n",
              "      <td>Johnston, Miss. Catherine Helen \"Carrie\"</td>\n",
              "      <td>female</td>\n",
              "      <td>NaN</td>\n",
              "      <td>1</td>\n",
              "      <td>2</td>\n",
              "      <td>W./C. 6607</td>\n",
              "      <td>23.4500</td>\n",
              "      <td>NaN</td>\n",
              "      <td>S</td>\n",
              "    </tr>\n",
              "    <tr>\n",
              "      <th>889</th>\n",
              "      <td>890</td>\n",
              "      <td>1</td>\n",
              "      <td>1</td>\n",
              "      <td>Behr, Mr. Karl Howell</td>\n",
              "      <td>male</td>\n",
              "      <td>26.0</td>\n",
              "      <td>0</td>\n",
              "      <td>0</td>\n",
              "      <td>111369</td>\n",
              "      <td>30.0000</td>\n",
              "      <td>C148</td>\n",
              "      <td>C</td>\n",
              "    </tr>\n",
              "    <tr>\n",
              "      <th>890</th>\n",
              "      <td>891</td>\n",
              "      <td>0</td>\n",
              "      <td>3</td>\n",
              "      <td>Dooley, Mr. Patrick</td>\n",
              "      <td>male</td>\n",
              "      <td>32.0</td>\n",
              "      <td>0</td>\n",
              "      <td>0</td>\n",
              "      <td>370376</td>\n",
              "      <td>7.7500</td>\n",
              "      <td>NaN</td>\n",
              "      <td>Q</td>\n",
              "    </tr>\n",
              "  </tbody>\n",
              "</table>\n",
              "<p>891 rows × 12 columns</p>\n",
              "</div>"
            ],
            "text/plain": [
              "     PassengerId  Survived  Pclass  ...     Fare Cabin  Embarked\n",
              "0              1         0       3  ...   7.2500   NaN         S\n",
              "1              2         1       1  ...  71.2833   C85         C\n",
              "2              3         1       3  ...   7.9250   NaN         S\n",
              "3              4         1       1  ...  53.1000  C123         S\n",
              "4              5         0       3  ...   8.0500   NaN         S\n",
              "..           ...       ...     ...  ...      ...   ...       ...\n",
              "886          887         0       2  ...  13.0000   NaN         S\n",
              "887          888         1       1  ...  30.0000   B42         S\n",
              "888          889         0       3  ...  23.4500   NaN         S\n",
              "889          890         1       1  ...  30.0000  C148         C\n",
              "890          891         0       3  ...   7.7500   NaN         Q\n",
              "\n",
              "[891 rows x 12 columns]"
            ]
          },
          "metadata": {
            "tags": []
          },
          "execution_count": 62
        }
      ]
    },
    {
      "cell_type": "code",
      "metadata": {
        "id": "YCCPmWrxYqAY",
        "colab_type": "code",
        "colab": {
          "base_uri": "https://localhost:8080/",
          "height": 34
        },
        "outputId": "c387c246-9276-4201-945e-d70539884019"
      },
      "source": [
        "df['Parch'].unique()"
      ],
      "execution_count": 63,
      "outputs": [
        {
          "output_type": "execute_result",
          "data": {
            "text/plain": [
              "array([0, 1, 2, 5, 3, 4, 6])"
            ]
          },
          "metadata": {
            "tags": []
          },
          "execution_count": 63
        }
      ]
    },
    {
      "cell_type": "code",
      "metadata": {
        "id": "UtLNStTAaAi3",
        "colab_type": "code",
        "colab": {
          "base_uri": "https://localhost:8080/",
          "height": 34
        },
        "outputId": "8ed98688-6939-4d87-8875-6b3c1a64ac74"
      },
      "source": [
        "df['SibSp'].unique()"
      ],
      "execution_count": 64,
      "outputs": [
        {
          "output_type": "execute_result",
          "data": {
            "text/plain": [
              "array([1, 0, 3, 4, 2, 5, 8])"
            ]
          },
          "metadata": {
            "tags": []
          },
          "execution_count": 64
        }
      ]
    },
    {
      "cell_type": "code",
      "metadata": {
        "id": "ZX9vfXc9aeYv",
        "colab_type": "code",
        "colab": {}
      },
      "source": [
        "df = df.drop('Cabin',1)"
      ],
      "execution_count": 65,
      "outputs": []
    },
    {
      "cell_type": "code",
      "metadata": {
        "id": "5alRzmcbalHW",
        "colab_type": "code",
        "colab": {}
      },
      "source": [
        "df = df.drop(['Ticket','Name'],1)"
      ],
      "execution_count": 66,
      "outputs": []
    },
    {
      "cell_type": "code",
      "metadata": {
        "id": "hdrDfOrcalpW",
        "colab_type": "code",
        "colab": {}
      },
      "source": [
        "df = df.dropna()"
      ],
      "execution_count": 67,
      "outputs": []
    },
    {
      "cell_type": "code",
      "metadata": {
        "id": "X-Xv-9Dlavf-",
        "colab_type": "code",
        "colab": {}
      },
      "source": [
        "df.set_index('PassengerId',inplace=True)"
      ],
      "execution_count": 68,
      "outputs": []
    },
    {
      "cell_type": "code",
      "metadata": {
        "id": "_4Qc8EGKbOIe",
        "colab_type": "code",
        "colab": {
          "base_uri": "https://localhost:8080/",
          "height": 450
        },
        "outputId": "3301e26a-104f-4bfa-c499-102fcb78822a"
      },
      "source": [
        "df"
      ],
      "execution_count": 69,
      "outputs": [
        {
          "output_type": "execute_result",
          "data": {
            "text/html": [
              "<div>\n",
              "<style scoped>\n",
              "    .dataframe tbody tr th:only-of-type {\n",
              "        vertical-align: middle;\n",
              "    }\n",
              "\n",
              "    .dataframe tbody tr th {\n",
              "        vertical-align: top;\n",
              "    }\n",
              "\n",
              "    .dataframe thead th {\n",
              "        text-align: right;\n",
              "    }\n",
              "</style>\n",
              "<table border=\"1\" class=\"dataframe\">\n",
              "  <thead>\n",
              "    <tr style=\"text-align: right;\">\n",
              "      <th></th>\n",
              "      <th>Survived</th>\n",
              "      <th>Pclass</th>\n",
              "      <th>Sex</th>\n",
              "      <th>Age</th>\n",
              "      <th>SibSp</th>\n",
              "      <th>Parch</th>\n",
              "      <th>Fare</th>\n",
              "      <th>Embarked</th>\n",
              "    </tr>\n",
              "    <tr>\n",
              "      <th>PassengerId</th>\n",
              "      <th></th>\n",
              "      <th></th>\n",
              "      <th></th>\n",
              "      <th></th>\n",
              "      <th></th>\n",
              "      <th></th>\n",
              "      <th></th>\n",
              "      <th></th>\n",
              "    </tr>\n",
              "  </thead>\n",
              "  <tbody>\n",
              "    <tr>\n",
              "      <th>1</th>\n",
              "      <td>0</td>\n",
              "      <td>3</td>\n",
              "      <td>male</td>\n",
              "      <td>22.0</td>\n",
              "      <td>1</td>\n",
              "      <td>0</td>\n",
              "      <td>7.2500</td>\n",
              "      <td>S</td>\n",
              "    </tr>\n",
              "    <tr>\n",
              "      <th>2</th>\n",
              "      <td>1</td>\n",
              "      <td>1</td>\n",
              "      <td>female</td>\n",
              "      <td>38.0</td>\n",
              "      <td>1</td>\n",
              "      <td>0</td>\n",
              "      <td>71.2833</td>\n",
              "      <td>C</td>\n",
              "    </tr>\n",
              "    <tr>\n",
              "      <th>3</th>\n",
              "      <td>1</td>\n",
              "      <td>3</td>\n",
              "      <td>female</td>\n",
              "      <td>26.0</td>\n",
              "      <td>0</td>\n",
              "      <td>0</td>\n",
              "      <td>7.9250</td>\n",
              "      <td>S</td>\n",
              "    </tr>\n",
              "    <tr>\n",
              "      <th>4</th>\n",
              "      <td>1</td>\n",
              "      <td>1</td>\n",
              "      <td>female</td>\n",
              "      <td>35.0</td>\n",
              "      <td>1</td>\n",
              "      <td>0</td>\n",
              "      <td>53.1000</td>\n",
              "      <td>S</td>\n",
              "    </tr>\n",
              "    <tr>\n",
              "      <th>5</th>\n",
              "      <td>0</td>\n",
              "      <td>3</td>\n",
              "      <td>male</td>\n",
              "      <td>35.0</td>\n",
              "      <td>0</td>\n",
              "      <td>0</td>\n",
              "      <td>8.0500</td>\n",
              "      <td>S</td>\n",
              "    </tr>\n",
              "    <tr>\n",
              "      <th>...</th>\n",
              "      <td>...</td>\n",
              "      <td>...</td>\n",
              "      <td>...</td>\n",
              "      <td>...</td>\n",
              "      <td>...</td>\n",
              "      <td>...</td>\n",
              "      <td>...</td>\n",
              "      <td>...</td>\n",
              "    </tr>\n",
              "    <tr>\n",
              "      <th>886</th>\n",
              "      <td>0</td>\n",
              "      <td>3</td>\n",
              "      <td>female</td>\n",
              "      <td>39.0</td>\n",
              "      <td>0</td>\n",
              "      <td>5</td>\n",
              "      <td>29.1250</td>\n",
              "      <td>Q</td>\n",
              "    </tr>\n",
              "    <tr>\n",
              "      <th>887</th>\n",
              "      <td>0</td>\n",
              "      <td>2</td>\n",
              "      <td>male</td>\n",
              "      <td>27.0</td>\n",
              "      <td>0</td>\n",
              "      <td>0</td>\n",
              "      <td>13.0000</td>\n",
              "      <td>S</td>\n",
              "    </tr>\n",
              "    <tr>\n",
              "      <th>888</th>\n",
              "      <td>1</td>\n",
              "      <td>1</td>\n",
              "      <td>female</td>\n",
              "      <td>19.0</td>\n",
              "      <td>0</td>\n",
              "      <td>0</td>\n",
              "      <td>30.0000</td>\n",
              "      <td>S</td>\n",
              "    </tr>\n",
              "    <tr>\n",
              "      <th>890</th>\n",
              "      <td>1</td>\n",
              "      <td>1</td>\n",
              "      <td>male</td>\n",
              "      <td>26.0</td>\n",
              "      <td>0</td>\n",
              "      <td>0</td>\n",
              "      <td>30.0000</td>\n",
              "      <td>C</td>\n",
              "    </tr>\n",
              "    <tr>\n",
              "      <th>891</th>\n",
              "      <td>0</td>\n",
              "      <td>3</td>\n",
              "      <td>male</td>\n",
              "      <td>32.0</td>\n",
              "      <td>0</td>\n",
              "      <td>0</td>\n",
              "      <td>7.7500</td>\n",
              "      <td>Q</td>\n",
              "    </tr>\n",
              "  </tbody>\n",
              "</table>\n",
              "<p>712 rows × 8 columns</p>\n",
              "</div>"
            ],
            "text/plain": [
              "             Survived  Pclass     Sex   Age  SibSp  Parch     Fare Embarked\n",
              "PassengerId                                                                \n",
              "1                   0       3    male  22.0      1      0   7.2500        S\n",
              "2                   1       1  female  38.0      1      0  71.2833        C\n",
              "3                   1       3  female  26.0      0      0   7.9250        S\n",
              "4                   1       1  female  35.0      1      0  53.1000        S\n",
              "5                   0       3    male  35.0      0      0   8.0500        S\n",
              "...               ...     ...     ...   ...    ...    ...      ...      ...\n",
              "886                 0       3  female  39.0      0      5  29.1250        Q\n",
              "887                 0       2    male  27.0      0      0  13.0000        S\n",
              "888                 1       1  female  19.0      0      0  30.0000        S\n",
              "890                 1       1    male  26.0      0      0  30.0000        C\n",
              "891                 0       3    male  32.0      0      0   7.7500        Q\n",
              "\n",
              "[712 rows x 8 columns]"
            ]
          },
          "metadata": {
            "tags": []
          },
          "execution_count": 69
        }
      ]
    },
    {
      "cell_type": "markdown",
      "metadata": {
        "id": "cPn0G_7wk5UL",
        "colab_type": "text"
      },
      "source": [
        "Data seperation categorial and continous"
      ]
    },
    {
      "cell_type": "code",
      "metadata": {
        "id": "K373WGIqbT3G",
        "colab_type": "code",
        "colab": {}
      },
      "source": [
        "cat_cols = ['Sex','Embarked','Pclass']\n",
        "cont_cols = ['Age','SibSp','Parch','Fare']\n",
        "y_col = ['Survived']"
      ],
      "execution_count": 72,
      "outputs": []
    },
    {
      "cell_type": "code",
      "metadata": {
        "id": "KPJN4XXBbnbW",
        "colab_type": "code",
        "colab": {}
      },
      "source": [
        "for cat in cat_cols:\n",
        "    df[cat] = df[cat].astype('category')"
      ],
      "execution_count": 73,
      "outputs": []
    },
    {
      "cell_type": "code",
      "metadata": {
        "id": "JQ-PtUBQcDTH",
        "colab_type": "code",
        "colab": {}
      },
      "source": [
        "Sx = df['Sex'].cat.codes.values\n",
        "Em = df['Embarked'].cat.codes.values\n",
        "Pc = df['Pclass'].cat.codes.values\n",
        "\n",
        "cats = np.stack([Sx,Em,Pc], 1)\n",
        "cats = torch.LongTensor(cats)"
      ],
      "execution_count": 74,
      "outputs": []
    },
    {
      "cell_type": "code",
      "metadata": {
        "id": "ZvQdA_kEcL1V",
        "colab_type": "code",
        "colab": {
          "base_uri": "https://localhost:8080/",
          "height": 136
        },
        "outputId": "5a63b40c-bebf-4f8d-ee29-3f8c58b09422"
      },
      "source": [
        "cats"
      ],
      "execution_count": 75,
      "outputs": [
        {
          "output_type": "execute_result",
          "data": {
            "text/plain": [
              "tensor([[1, 2, 2],\n",
              "        [0, 0, 0],\n",
              "        [0, 2, 2],\n",
              "        ...,\n",
              "        [0, 2, 0],\n",
              "        [1, 0, 0],\n",
              "        [1, 1, 2]])"
            ]
          },
          "metadata": {
            "tags": []
          },
          "execution_count": 75
        }
      ]
    },
    {
      "cell_type": "code",
      "metadata": {
        "id": "r3CGP4_ycMuP",
        "colab_type": "code",
        "colab": {
          "base_uri": "https://localhost:8080/",
          "height": 102
        },
        "outputId": "ea71524c-cce3-4e92-9496-7f9a15ac27f0"
      },
      "source": [
        "conts = np.stack([df[col].values for col in cont_cols], 1)\n",
        "conts = torch.FloatTensor(conts)\n",
        "conts[:5]"
      ],
      "execution_count": 76,
      "outputs": [
        {
          "output_type": "execute_result",
          "data": {
            "text/plain": [
              "tensor([[22.0000,  1.0000,  0.0000,  7.2500],\n",
              "        [38.0000,  1.0000,  0.0000, 71.2833],\n",
              "        [26.0000,  0.0000,  0.0000,  7.9250],\n",
              "        [35.0000,  1.0000,  0.0000, 53.1000],\n",
              "        [35.0000,  0.0000,  0.0000,  8.0500]])"
            ]
          },
          "metadata": {
            "tags": []
          },
          "execution_count": 76
        }
      ]
    },
    {
      "cell_type": "code",
      "metadata": {
        "id": "YF3bd0--crIU",
        "colab_type": "code",
        "colab": {
          "base_uri": "https://localhost:8080/",
          "height": 34
        },
        "outputId": "e0bd749a-7d09-4157-89e0-a4ecda8d819c"
      },
      "source": [
        "y = torch.tensor(df[y_col].values).flatten()\n",
        "\n",
        "y[:5]"
      ],
      "execution_count": 77,
      "outputs": [
        {
          "output_type": "execute_result",
          "data": {
            "text/plain": [
              "tensor([0, 1, 1, 1, 0])"
            ]
          },
          "metadata": {
            "tags": []
          },
          "execution_count": 77
        }
      ]
    },
    {
      "cell_type": "markdown",
      "metadata": {
        "id": "6EifCWytk9PC",
        "colab_type": "text"
      },
      "source": [
        "Data preperation for embedding"
      ]
    },
    {
      "cell_type": "code",
      "metadata": {
        "id": "SjaAu1DHc7-h",
        "colab_type": "code",
        "colab": {
          "base_uri": "https://localhost:8080/",
          "height": 34
        },
        "outputId": "7f38b45b-41c2-4607-a243-824a960c958d"
      },
      "source": [
        "# This will set embedding sizes for Hours, AMvsPM and Weekdays\n",
        "cat_szs = [len(df[col].cat.categories) for col in cat_cols]\n",
        "emb_szs = [(size, min(50, (size+1)//2)) for size in cat_szs]\n",
        "emb_szs"
      ],
      "execution_count": 78,
      "outputs": [
        {
          "output_type": "execute_result",
          "data": {
            "text/plain": [
              "[(2, 1), (3, 2), (3, 2)]"
            ]
          },
          "metadata": {
            "tags": []
          },
          "execution_count": 78
        }
      ]
    },
    {
      "cell_type": "code",
      "metadata": {
        "id": "1t5vKTpWzZxy",
        "colab_type": "code",
        "colab": {
          "base_uri": "https://localhost:8080/",
          "height": 34
        },
        "outputId": "1eae6612-6bf8-427d-e0fb-ad1b681dcc3f"
      },
      "source": [
        "cat_szs "
      ],
      "execution_count": 79,
      "outputs": [
        {
          "output_type": "execute_result",
          "data": {
            "text/plain": [
              "[2, 3, 3]"
            ]
          },
          "metadata": {
            "tags": []
          },
          "execution_count": 79
        }
      ]
    },
    {
      "cell_type": "markdown",
      "metadata": {
        "id": "aAUkN19kk_8k",
        "colab_type": "text"
      },
      "source": [
        "Neural Network"
      ]
    },
    {
      "cell_type": "code",
      "metadata": {
        "id": "ML-rvTrtdI1-",
        "colab_type": "code",
        "colab": {}
      },
      "source": [
        "class TabularModel(nn.Module):\n",
        "\n",
        "    def __init__(self, emb_szs, n_cont, out_sz, layers, p=0.4):\n",
        "        super().__init__()\n",
        "        self.embeds = nn.ModuleList([nn.Embedding(ni, nf) for ni,nf in emb_szs])\n",
        "        self.emb_drop = nn.Dropout(p)\n",
        "        self.bn_cont = nn.BatchNorm1d(n_cont)\n",
        "        \n",
        "        layerlist = []\n",
        "        n_emb = sum((nf for ni,nf in emb_szs))\n",
        "        n_in = n_emb + n_cont\n",
        "        \n",
        "        for i in layers:\n",
        "            layerlist.append(nn.Linear(n_in,i)) \n",
        "            layerlist.append(nn.ReLU(inplace=True))\n",
        "            layerlist.append(nn.BatchNorm1d(i))\n",
        "            layerlist.append(nn.Dropout(p))\n",
        "            n_in = i\n",
        "        layerlist.append(nn.Linear(layers[-1],out_sz))\n",
        "            \n",
        "        self.layers = nn.Sequential(*layerlist)\n",
        "    \n",
        "    def forward(self, x_cat, x_cont):\n",
        "        embeddings = []\n",
        "        for i,e in enumerate(self.embeds):\n",
        "            embeddings.append(e(x_cat[:,i]))\n",
        "            \n",
        "        x = torch.cat(embeddings, 1)\n",
        "        x = self.emb_drop(x)\n",
        "        \n",
        "        x_cont = self.bn_cont(x_cont)\n",
        "        x = torch.cat([x, x_cont], 1)\n",
        "        x = self.layers(x)\n",
        "        return x"
      ],
      "execution_count": 80,
      "outputs": []
    },
    {
      "cell_type": "code",
      "metadata": {
        "id": "fjW2P7hhdUlv",
        "colab_type": "code",
        "colab": {}
      },
      "source": [
        "model = TabularModel(emb_szs, conts.shape[1], 2, [200,100], p=0.4) # out_sz = 2"
      ],
      "execution_count": 81,
      "outputs": []
    },
    {
      "cell_type": "markdown",
      "metadata": {
        "id": "9NF3x7OulCMo",
        "colab_type": "text"
      },
      "source": [
        "Model summary"
      ]
    },
    {
      "cell_type": "code",
      "metadata": {
        "id": "wrg5SuKpd879",
        "colab_type": "code",
        "colab": {
          "base_uri": "https://localhost:8080/",
          "height": 357
        },
        "outputId": "b7d11a6b-9206-4302-e320-81ee544240b7"
      },
      "source": [
        "model"
      ],
      "execution_count": 82,
      "outputs": [
        {
          "output_type": "execute_result",
          "data": {
            "text/plain": [
              "TabularModel(\n",
              "  (embeds): ModuleList(\n",
              "    (0): Embedding(2, 1)\n",
              "    (1): Embedding(3, 2)\n",
              "    (2): Embedding(3, 2)\n",
              "  )\n",
              "  (emb_drop): Dropout(p=0.4, inplace=False)\n",
              "  (bn_cont): BatchNorm1d(4, eps=1e-05, momentum=0.1, affine=True, track_running_stats=True)\n",
              "  (layers): Sequential(\n",
              "    (0): Linear(in_features=9, out_features=200, bias=True)\n",
              "    (1): ReLU(inplace=True)\n",
              "    (2): BatchNorm1d(200, eps=1e-05, momentum=0.1, affine=True, track_running_stats=True)\n",
              "    (3): Dropout(p=0.4, inplace=False)\n",
              "    (4): Linear(in_features=200, out_features=100, bias=True)\n",
              "    (5): ReLU(inplace=True)\n",
              "    (6): BatchNorm1d(100, eps=1e-05, momentum=0.1, affine=True, track_running_stats=True)\n",
              "    (7): Dropout(p=0.4, inplace=False)\n",
              "    (8): Linear(in_features=100, out_features=2, bias=True)\n",
              "  )\n",
              ")"
            ]
          },
          "metadata": {
            "tags": []
          },
          "execution_count": 82
        }
      ]
    },
    {
      "cell_type": "markdown",
      "metadata": {
        "id": "I9RsCxV_lFSp",
        "colab_type": "text"
      },
      "source": [
        "Cost function and optimization"
      ]
    },
    {
      "cell_type": "code",
      "metadata": {
        "id": "S2cJj5mGd9f2",
        "colab_type": "code",
        "colab": {}
      },
      "source": [
        "criterion = nn.CrossEntropyLoss() #CrossEntropyLoss performs better for classification tasks\n",
        "optimizer = torch.optim.Adam(model.parameters(), lr=0.001)"
      ],
      "execution_count": 83,
      "outputs": []
    },
    {
      "cell_type": "code",
      "metadata": {
        "id": "39hZm1hVeVnL",
        "colab_type": "code",
        "colab": {}
      },
      "source": [
        "cat_train = cats\n",
        "con_train = conts\n",
        "y_train = y"
      ],
      "execution_count": 84,
      "outputs": []
    },
    {
      "cell_type": "markdown",
      "metadata": {
        "id": "zs84YygHlHY5",
        "colab_type": "text"
      },
      "source": [
        "Training"
      ]
    },
    {
      "cell_type": "code",
      "metadata": {
        "id": "GWAoYUjKeMl3",
        "colab_type": "code",
        "colab": {
          "base_uri": "https://localhost:8080/",
          "height": 1000
        },
        "outputId": "b6b017d4-fe03-42ca-8294-3d273b75468f"
      },
      "source": [
        "import time\n",
        "start_time = time.time()\n",
        "\n",
        "epochs = 3000\n",
        "losses = []\n",
        "\n",
        "for i in range(epochs):\n",
        "    i+=1\n",
        "    y_pred = model(cat_train, con_train)\n",
        "    loss = criterion(y_pred, y_train)\n",
        "    losses.append(loss)\n",
        "  \n",
        "    # a neat trick to save screen space:\n",
        "    if i%10 == 1:\n",
        "        print('Epoch: {} and Loss: {:8.4f}'.format(i,loss))\n",
        "\n",
        "    optimizer.zero_grad()\n",
        "    loss.backward()\n",
        "    optimizer.step()\n",
        "\n",
        "print(f'epoch: {i:3}  loss: {loss.item():10.8f}') # print the last line\n",
        "print(f'\\nDuration: {time.time() - start_time:.0f} seconds') # print the time elapsed"
      ],
      "execution_count": 85,
      "outputs": [
        {
          "output_type": "stream",
          "text": [
            "Epoch: 1 and Loss:   0.8743\n",
            "Epoch: 11 and Loss:   0.6420\n",
            "Epoch: 21 and Loss:   0.5968\n",
            "Epoch: 31 and Loss:   0.5873\n",
            "Epoch: 41 and Loss:   0.5493\n",
            "Epoch: 51 and Loss:   0.5852\n",
            "Epoch: 61 and Loss:   0.5459\n",
            "Epoch: 71 and Loss:   0.5494\n",
            "Epoch: 81 and Loss:   0.5580\n",
            "Epoch: 91 and Loss:   0.5612\n",
            "Epoch: 101 and Loss:   0.5460\n",
            "Epoch: 111 and Loss:   0.5314\n",
            "Epoch: 121 and Loss:   0.5295\n",
            "Epoch: 131 and Loss:   0.5101\n",
            "Epoch: 141 and Loss:   0.5108\n",
            "Epoch: 151 and Loss:   0.5121\n",
            "Epoch: 161 and Loss:   0.5223\n",
            "Epoch: 171 and Loss:   0.4979\n",
            "Epoch: 181 and Loss:   0.4967\n",
            "Epoch: 191 and Loss:   0.5001\n",
            "Epoch: 201 and Loss:   0.5024\n",
            "Epoch: 211 and Loss:   0.5045\n",
            "Epoch: 221 and Loss:   0.4940\n",
            "Epoch: 231 and Loss:   0.4746\n",
            "Epoch: 241 and Loss:   0.4840\n",
            "Epoch: 251 and Loss:   0.4968\n",
            "Epoch: 261 and Loss:   0.5004\n",
            "Epoch: 271 and Loss:   0.5043\n",
            "Epoch: 281 and Loss:   0.4593\n",
            "Epoch: 291 and Loss:   0.4840\n",
            "Epoch: 301 and Loss:   0.4782\n",
            "Epoch: 311 and Loss:   0.5040\n",
            "Epoch: 321 and Loss:   0.4669\n",
            "Epoch: 331 and Loss:   0.4712\n",
            "Epoch: 341 and Loss:   0.4792\n",
            "Epoch: 351 and Loss:   0.4941\n",
            "Epoch: 361 and Loss:   0.4774\n",
            "Epoch: 371 and Loss:   0.5002\n",
            "Epoch: 381 and Loss:   0.4662\n",
            "Epoch: 391 and Loss:   0.4833\n",
            "Epoch: 401 and Loss:   0.4844\n",
            "Epoch: 411 and Loss:   0.4640\n",
            "Epoch: 421 and Loss:   0.4722\n",
            "Epoch: 431 and Loss:   0.4879\n",
            "Epoch: 441 and Loss:   0.4305\n",
            "Epoch: 451 and Loss:   0.4484\n",
            "Epoch: 461 and Loss:   0.4740\n",
            "Epoch: 471 and Loss:   0.4533\n",
            "Epoch: 481 and Loss:   0.4545\n",
            "Epoch: 491 and Loss:   0.4504\n",
            "Epoch: 501 and Loss:   0.4546\n",
            "Epoch: 511 and Loss:   0.4487\n",
            "Epoch: 521 and Loss:   0.4699\n",
            "Epoch: 531 and Loss:   0.4702\n",
            "Epoch: 541 and Loss:   0.4579\n",
            "Epoch: 551 and Loss:   0.4558\n",
            "Epoch: 561 and Loss:   0.4349\n",
            "Epoch: 571 and Loss:   0.4637\n",
            "Epoch: 581 and Loss:   0.4647\n",
            "Epoch: 591 and Loss:   0.4534\n",
            "Epoch: 601 and Loss:   0.4562\n",
            "Epoch: 611 and Loss:   0.4523\n",
            "Epoch: 621 and Loss:   0.4484\n",
            "Epoch: 631 and Loss:   0.4487\n",
            "Epoch: 641 and Loss:   0.4636\n",
            "Epoch: 651 and Loss:   0.4256\n",
            "Epoch: 661 and Loss:   0.4660\n",
            "Epoch: 671 and Loss:   0.4450\n",
            "Epoch: 681 and Loss:   0.4468\n",
            "Epoch: 691 and Loss:   0.4433\n",
            "Epoch: 701 and Loss:   0.4562\n",
            "Epoch: 711 and Loss:   0.4570\n",
            "Epoch: 721 and Loss:   0.4454\n",
            "Epoch: 731 and Loss:   0.4423\n",
            "Epoch: 741 and Loss:   0.4392\n",
            "Epoch: 751 and Loss:   0.4392\n",
            "Epoch: 761 and Loss:   0.4296\n",
            "Epoch: 771 and Loss:   0.4560\n",
            "Epoch: 781 and Loss:   0.4417\n",
            "Epoch: 791 and Loss:   0.4290\n",
            "Epoch: 801 and Loss:   0.4199\n",
            "Epoch: 811 and Loss:   0.4443\n",
            "Epoch: 821 and Loss:   0.4503\n",
            "Epoch: 831 and Loss:   0.4209\n",
            "Epoch: 841 and Loss:   0.4171\n",
            "Epoch: 851 and Loss:   0.4292\n",
            "Epoch: 861 and Loss:   0.4403\n",
            "Epoch: 871 and Loss:   0.4282\n",
            "Epoch: 881 and Loss:   0.4127\n",
            "Epoch: 891 and Loss:   0.4401\n",
            "Epoch: 901 and Loss:   0.4276\n",
            "Epoch: 911 and Loss:   0.4439\n",
            "Epoch: 921 and Loss:   0.4475\n",
            "Epoch: 931 and Loss:   0.4283\n",
            "Epoch: 941 and Loss:   0.4342\n",
            "Epoch: 951 and Loss:   0.4317\n",
            "Epoch: 961 and Loss:   0.4553\n",
            "Epoch: 971 and Loss:   0.4042\n",
            "Epoch: 981 and Loss:   0.4363\n",
            "Epoch: 991 and Loss:   0.4491\n",
            "Epoch: 1001 and Loss:   0.4393\n",
            "Epoch: 1011 and Loss:   0.4199\n",
            "Epoch: 1021 and Loss:   0.4190\n",
            "Epoch: 1031 and Loss:   0.4307\n",
            "Epoch: 1041 and Loss:   0.4259\n",
            "Epoch: 1051 and Loss:   0.4366\n",
            "Epoch: 1061 and Loss:   0.4203\n",
            "Epoch: 1071 and Loss:   0.4209\n",
            "Epoch: 1081 and Loss:   0.4247\n",
            "Epoch: 1091 and Loss:   0.4326\n",
            "Epoch: 1101 and Loss:   0.4200\n",
            "Epoch: 1111 and Loss:   0.4183\n",
            "Epoch: 1121 and Loss:   0.4263\n",
            "Epoch: 1131 and Loss:   0.4211\n",
            "Epoch: 1141 and Loss:   0.4175\n",
            "Epoch: 1151 and Loss:   0.4143\n",
            "Epoch: 1161 and Loss:   0.4224\n",
            "Epoch: 1171 and Loss:   0.4248\n",
            "Epoch: 1181 and Loss:   0.4460\n",
            "Epoch: 1191 and Loss:   0.4252\n",
            "Epoch: 1201 and Loss:   0.4297\n",
            "Epoch: 1211 and Loss:   0.3982\n",
            "Epoch: 1221 and Loss:   0.4118\n",
            "Epoch: 1231 and Loss:   0.4145\n",
            "Epoch: 1241 and Loss:   0.4235\n",
            "Epoch: 1251 and Loss:   0.4147\n",
            "Epoch: 1261 and Loss:   0.4253\n",
            "Epoch: 1271 and Loss:   0.4176\n",
            "Epoch: 1281 and Loss:   0.4098\n",
            "Epoch: 1291 and Loss:   0.4287\n",
            "Epoch: 1301 and Loss:   0.4179\n",
            "Epoch: 1311 and Loss:   0.4078\n",
            "Epoch: 1321 and Loss:   0.4259\n",
            "Epoch: 1331 and Loss:   0.4113\n",
            "Epoch: 1341 and Loss:   0.4032\n",
            "Epoch: 1351 and Loss:   0.4169\n",
            "Epoch: 1361 and Loss:   0.4192\n",
            "Epoch: 1371 and Loss:   0.4177\n",
            "Epoch: 1381 and Loss:   0.3942\n",
            "Epoch: 1391 and Loss:   0.4318\n",
            "Epoch: 1401 and Loss:   0.3922\n",
            "Epoch: 1411 and Loss:   0.4183\n",
            "Epoch: 1421 and Loss:   0.3925\n",
            "Epoch: 1431 and Loss:   0.4104\n",
            "Epoch: 1441 and Loss:   0.3979\n",
            "Epoch: 1451 and Loss:   0.4019\n",
            "Epoch: 1461 and Loss:   0.3777\n",
            "Epoch: 1471 and Loss:   0.4338\n",
            "Epoch: 1481 and Loss:   0.4022\n",
            "Epoch: 1491 and Loss:   0.4057\n",
            "Epoch: 1501 and Loss:   0.3952\n",
            "Epoch: 1511 and Loss:   0.4242\n",
            "Epoch: 1521 and Loss:   0.4006\n",
            "Epoch: 1531 and Loss:   0.4014\n",
            "Epoch: 1541 and Loss:   0.4054\n",
            "Epoch: 1551 and Loss:   0.4072\n",
            "Epoch: 1561 and Loss:   0.3811\n",
            "Epoch: 1571 and Loss:   0.4193\n",
            "Epoch: 1581 and Loss:   0.3860\n",
            "Epoch: 1591 and Loss:   0.3976\n",
            "Epoch: 1601 and Loss:   0.3957\n",
            "Epoch: 1611 and Loss:   0.4249\n",
            "Epoch: 1621 and Loss:   0.3837\n",
            "Epoch: 1631 and Loss:   0.4003\n",
            "Epoch: 1641 and Loss:   0.4097\n",
            "Epoch: 1651 and Loss:   0.3780\n",
            "Epoch: 1661 and Loss:   0.3985\n",
            "Epoch: 1671 and Loss:   0.4163\n",
            "Epoch: 1681 and Loss:   0.4042\n",
            "Epoch: 1691 and Loss:   0.3958\n",
            "Epoch: 1701 and Loss:   0.3911\n",
            "Epoch: 1711 and Loss:   0.3995\n",
            "Epoch: 1721 and Loss:   0.4032\n",
            "Epoch: 1731 and Loss:   0.3852\n",
            "Epoch: 1741 and Loss:   0.4000\n",
            "Epoch: 1751 and Loss:   0.3943\n",
            "Epoch: 1761 and Loss:   0.3962\n",
            "Epoch: 1771 and Loss:   0.3979\n",
            "Epoch: 1781 and Loss:   0.3972\n",
            "Epoch: 1791 and Loss:   0.4031\n",
            "Epoch: 1801 and Loss:   0.3993\n",
            "Epoch: 1811 and Loss:   0.4051\n",
            "Epoch: 1821 and Loss:   0.3881\n",
            "Epoch: 1831 and Loss:   0.3747\n",
            "Epoch: 1841 and Loss:   0.3765\n",
            "Epoch: 1851 and Loss:   0.3782\n",
            "Epoch: 1861 and Loss:   0.3873\n",
            "Epoch: 1871 and Loss:   0.4044\n",
            "Epoch: 1881 and Loss:   0.3908\n",
            "Epoch: 1891 and Loss:   0.3826\n",
            "Epoch: 1901 and Loss:   0.3993\n",
            "Epoch: 1911 and Loss:   0.3904\n",
            "Epoch: 1921 and Loss:   0.3898\n",
            "Epoch: 1931 and Loss:   0.3723\n",
            "Epoch: 1941 and Loss:   0.3657\n",
            "Epoch: 1951 and Loss:   0.3678\n",
            "Epoch: 1961 and Loss:   0.3960\n",
            "Epoch: 1971 and Loss:   0.3755\n",
            "Epoch: 1981 and Loss:   0.3858\n",
            "Epoch: 1991 and Loss:   0.4053\n",
            "Epoch: 2001 and Loss:   0.3910\n",
            "Epoch: 2011 and Loss:   0.4071\n",
            "Epoch: 2021 and Loss:   0.3842\n",
            "Epoch: 2031 and Loss:   0.3819\n",
            "Epoch: 2041 and Loss:   0.4038\n",
            "Epoch: 2051 and Loss:   0.3619\n",
            "Epoch: 2061 and Loss:   0.3758\n",
            "Epoch: 2071 and Loss:   0.3855\n",
            "Epoch: 2081 and Loss:   0.3765\n",
            "Epoch: 2091 and Loss:   0.3592\n",
            "Epoch: 2101 and Loss:   0.3837\n",
            "Epoch: 2111 and Loss:   0.3654\n",
            "Epoch: 2121 and Loss:   0.3803\n",
            "Epoch: 2131 and Loss:   0.3736\n",
            "Epoch: 2141 and Loss:   0.3961\n",
            "Epoch: 2151 and Loss:   0.3826\n",
            "Epoch: 2161 and Loss:   0.3821\n",
            "Epoch: 2171 and Loss:   0.3800\n",
            "Epoch: 2181 and Loss:   0.3866\n",
            "Epoch: 2191 and Loss:   0.3684\n",
            "Epoch: 2201 and Loss:   0.3787\n",
            "Epoch: 2211 and Loss:   0.3632\n",
            "Epoch: 2221 and Loss:   0.3977\n",
            "Epoch: 2231 and Loss:   0.3795\n",
            "Epoch: 2241 and Loss:   0.3771\n",
            "Epoch: 2251 and Loss:   0.3644\n",
            "Epoch: 2261 and Loss:   0.3809\n",
            "Epoch: 2271 and Loss:   0.3736\n",
            "Epoch: 2281 and Loss:   0.3645\n",
            "Epoch: 2291 and Loss:   0.3894\n",
            "Epoch: 2301 and Loss:   0.3785\n",
            "Epoch: 2311 and Loss:   0.3778\n",
            "Epoch: 2321 and Loss:   0.3925\n",
            "Epoch: 2331 and Loss:   0.3559\n",
            "Epoch: 2341 and Loss:   0.3646\n",
            "Epoch: 2351 and Loss:   0.3489\n",
            "Epoch: 2361 and Loss:   0.3574\n",
            "Epoch: 2371 and Loss:   0.3923\n",
            "Epoch: 2381 and Loss:   0.3615\n",
            "Epoch: 2391 and Loss:   0.3916\n",
            "Epoch: 2401 and Loss:   0.3676\n",
            "Epoch: 2411 and Loss:   0.3921\n",
            "Epoch: 2421 and Loss:   0.3767\n",
            "Epoch: 2431 and Loss:   0.3958\n",
            "Epoch: 2441 and Loss:   0.3540\n",
            "Epoch: 2451 and Loss:   0.3599\n",
            "Epoch: 2461 and Loss:   0.3515\n",
            "Epoch: 2471 and Loss:   0.3584\n",
            "Epoch: 2481 and Loss:   0.3747\n",
            "Epoch: 2491 and Loss:   0.3678\n",
            "Epoch: 2501 and Loss:   0.3722\n",
            "Epoch: 2511 and Loss:   0.3566\n",
            "Epoch: 2521 and Loss:   0.3752\n",
            "Epoch: 2531 and Loss:   0.3649\n",
            "Epoch: 2541 and Loss:   0.3506\n",
            "Epoch: 2551 and Loss:   0.3660\n",
            "Epoch: 2561 and Loss:   0.3753\n",
            "Epoch: 2571 and Loss:   0.3545\n",
            "Epoch: 2581 and Loss:   0.3866\n",
            "Epoch: 2591 and Loss:   0.3844\n",
            "Epoch: 2601 and Loss:   0.3702\n",
            "Epoch: 2611 and Loss:   0.3779\n",
            "Epoch: 2621 and Loss:   0.3732\n",
            "Epoch: 2631 and Loss:   0.3745\n",
            "Epoch: 2641 and Loss:   0.3676\n",
            "Epoch: 2651 and Loss:   0.3576\n",
            "Epoch: 2661 and Loss:   0.3623\n",
            "Epoch: 2671 and Loss:   0.3833\n",
            "Epoch: 2681 and Loss:   0.3634\n",
            "Epoch: 2691 and Loss:   0.3594\n",
            "Epoch: 2701 and Loss:   0.3364\n",
            "Epoch: 2711 and Loss:   0.3747\n",
            "Epoch: 2721 and Loss:   0.3443\n",
            "Epoch: 2731 and Loss:   0.3492\n",
            "Epoch: 2741 and Loss:   0.3835\n",
            "Epoch: 2751 and Loss:   0.3701\n",
            "Epoch: 2761 and Loss:   0.3676\n",
            "Epoch: 2771 and Loss:   0.3557\n",
            "Epoch: 2781 and Loss:   0.3489\n",
            "Epoch: 2791 and Loss:   0.3537\n",
            "Epoch: 2801 and Loss:   0.3425\n",
            "Epoch: 2811 and Loss:   0.3458\n",
            "Epoch: 2821 and Loss:   0.3524\n",
            "Epoch: 2831 and Loss:   0.3547\n",
            "Epoch: 2841 and Loss:   0.3857\n",
            "Epoch: 2851 and Loss:   0.3571\n",
            "Epoch: 2861 and Loss:   0.3753\n",
            "Epoch: 2871 and Loss:   0.3595\n",
            "Epoch: 2881 and Loss:   0.3580\n",
            "Epoch: 2891 and Loss:   0.3633\n",
            "Epoch: 2901 and Loss:   0.3498\n",
            "Epoch: 2911 and Loss:   0.3778\n",
            "Epoch: 2921 and Loss:   0.3492\n",
            "Epoch: 2931 and Loss:   0.3475\n",
            "Epoch: 2941 and Loss:   0.3574\n",
            "Epoch: 2951 and Loss:   0.3496\n",
            "Epoch: 2961 and Loss:   0.3589\n",
            "Epoch: 2971 and Loss:   0.3529\n",
            "Epoch: 2981 and Loss:   0.3491\n",
            "Epoch: 2991 and Loss:   0.3385\n",
            "epoch: 3000  loss: 0.34391612\n",
            "\n",
            "Duration: 47 seconds\n"
          ],
          "name": "stdout"
        }
      ]
    },
    {
      "cell_type": "code",
      "metadata": {
        "id": "PXcTZ9y9zKLc",
        "colab_type": "code",
        "colab": {
          "base_uri": "https://localhost:8080/",
          "height": 286
        },
        "outputId": "e8dbc5a8-4e4a-41a1-fb42-ff8f8f2fb74a"
      },
      "source": [
        "plt.plot(range(epochs),losses)"
      ],
      "execution_count": 86,
      "outputs": [
        {
          "output_type": "execute_result",
          "data": {
            "text/plain": [
              "[<matplotlib.lines.Line2D at 0x7fce2f2c9dd8>]"
            ]
          },
          "metadata": {
            "tags": []
          },
          "execution_count": 86
        },
        {
          "output_type": "display_data",
          "data": {
            "image/png": "[encoded data removed]",
            "text/plain": [
              "<Figure size 432x288 with 1 Axes>"
            ]
          },
          "metadata": {
            "tags": [],
            "needs_background": "light"
          }
        }
      ]
    },
    {
      "cell_type": "markdown",
      "metadata": {
        "id": "mV5FIX_ulLKv",
        "colab_type": "text"
      },
      "source": [
        "Prediction"
      ]
    },
    {
      "cell_type": "code",
      "metadata": {
        "id": "b5Mhbm5s5CyT",
        "colab_type": "code",
        "colab": {}
      },
      "source": [
        "df2 = pd.read_csv('test.csv')"
      ],
      "execution_count": 87,
      "outputs": []
    },
    {
      "cell_type": "code",
      "metadata": {
        "id": "fgscYaWH5JUS",
        "colab_type": "code",
        "colab": {
          "base_uri": "https://localhost:8080/",
          "height": 419
        },
        "outputId": "f7ed1824-d7b1-4cb9-bf1b-6a1cf6e137c6"
      },
      "source": [
        "df2"
      ],
      "execution_count": 88,
      "outputs": [
        {
          "output_type": "execute_result",
          "data": {
            "text/html": [
              "<div>\n",
              "<style scoped>\n",
              "    .dataframe tbody tr th:only-of-type {\n",
              "        vertical-align: middle;\n",
              "    }\n",
              "\n",
              "    .dataframe tbody tr th {\n",
              "        vertical-align: top;\n",
              "    }\n",
              "\n",
              "    .dataframe thead th {\n",
              "        text-align: right;\n",
              "    }\n",
              "</style>\n",
              "<table border=\"1\" class=\"dataframe\">\n",
              "  <thead>\n",
              "    <tr style=\"text-align: right;\">\n",
              "      <th></th>\n",
              "      <th>PassengerId</th>\n",
              "      <th>Pclass</th>\n",
              "      <th>Name</th>\n",
              "      <th>Sex</th>\n",
              "      <th>Age</th>\n",
              "      <th>SibSp</th>\n",
              "      <th>Parch</th>\n",
              "      <th>Ticket</th>\n",
              "      <th>Fare</th>\n",
              "      <th>Cabin</th>\n",
              "      <th>Embarked</th>\n",
              "    </tr>\n",
              "  </thead>\n",
              "  <tbody>\n",
              "    <tr>\n",
              "      <th>0</th>\n",
              "      <td>892</td>\n",
              "      <td>3</td>\n",
              "      <td>Kelly, Mr. James</td>\n",
              "      <td>male</td>\n",
              "      <td>34.5</td>\n",
              "      <td>0</td>\n",
              "      <td>0</td>\n",
              "      <td>330911</td>\n",
              "      <td>7.8292</td>\n",
              "      <td>NaN</td>\n",
              "      <td>Q</td>\n",
              "    </tr>\n",
              "    <tr>\n",
              "      <th>1</th>\n",
              "      <td>893</td>\n",
              "      <td>3</td>\n",
              "      <td>Wilkes, Mrs. James (Ellen Needs)</td>\n",
              "      <td>female</td>\n",
              "      <td>47.0</td>\n",
              "      <td>1</td>\n",
              "      <td>0</td>\n",
              "      <td>363272</td>\n",
              "      <td>7.0000</td>\n",
              "      <td>NaN</td>\n",
              "      <td>S</td>\n",
              "    </tr>\n",
              "    <tr>\n",
              "      <th>2</th>\n",
              "      <td>894</td>\n",
              "      <td>2</td>\n",
              "      <td>Myles, Mr. Thomas Francis</td>\n",
              "      <td>male</td>\n",
              "      <td>62.0</td>\n",
              "      <td>0</td>\n",
              "      <td>0</td>\n",
              "      <td>240276</td>\n",
              "      <td>9.6875</td>\n",
              "      <td>NaN</td>\n",
              "      <td>Q</td>\n",
              "    </tr>\n",
              "    <tr>\n",
              "      <th>3</th>\n",
              "      <td>895</td>\n",
              "      <td>3</td>\n",
              "      <td>Wirz, Mr. Albert</td>\n",
              "      <td>male</td>\n",
              "      <td>27.0</td>\n",
              "      <td>0</td>\n",
              "      <td>0</td>\n",
              "      <td>315154</td>\n",
              "      <td>8.6625</td>\n",
              "      <td>NaN</td>\n",
              "      <td>S</td>\n",
              "    </tr>\n",
              "    <tr>\n",
              "      <th>4</th>\n",
              "      <td>896</td>\n",
              "      <td>3</td>\n",
              "      <td>Hirvonen, Mrs. Alexander (Helga E Lindqvist)</td>\n",
              "      <td>female</td>\n",
              "      <td>22.0</td>\n",
              "      <td>1</td>\n",
              "      <td>1</td>\n",
              "      <td>3101298</td>\n",
              "      <td>12.2875</td>\n",
              "      <td>NaN</td>\n",
              "      <td>S</td>\n",
              "    </tr>\n",
              "    <tr>\n",
              "      <th>...</th>\n",
              "      <td>...</td>\n",
              "      <td>...</td>\n",
              "      <td>...</td>\n",
              "      <td>...</td>\n",
              "      <td>...</td>\n",
              "      <td>...</td>\n",
              "      <td>...</td>\n",
              "      <td>...</td>\n",
              "      <td>...</td>\n",
              "      <td>...</td>\n",
              "      <td>...</td>\n",
              "    </tr>\n",
              "    <tr>\n",
              "      <th>413</th>\n",
              "      <td>1305</td>\n",
              "      <td>3</td>\n",
              "      <td>Spector, Mr. Woolf</td>\n",
              "      <td>male</td>\n",
              "      <td>NaN</td>\n",
              "      <td>0</td>\n",
              "      <td>0</td>\n",
              "      <td>A.5. 3236</td>\n",
              "      <td>8.0500</td>\n",
              "      <td>NaN</td>\n",
              "      <td>S</td>\n",
              "    </tr>\n",
              "    <tr>\n",
              "      <th>414</th>\n",
              "      <td>1306</td>\n",
              "      <td>1</td>\n",
              "      <td>Oliva y Ocana, Dona. Fermina</td>\n",
              "      <td>female</td>\n",
              "      <td>39.0</td>\n",
              "      <td>0</td>\n",
              "      <td>0</td>\n",
              "      <td>PC 17758</td>\n",
              "      <td>108.9000</td>\n",
              "      <td>C105</td>\n",
              "      <td>C</td>\n",
              "    </tr>\n",
              "    <tr>\n",
              "      <th>415</th>\n",
              "      <td>1307</td>\n",
              "      <td>3</td>\n",
              "      <td>Saether, Mr. Simon Sivertsen</td>\n",
              "      <td>male</td>\n",
              "      <td>38.5</td>\n",
              "      <td>0</td>\n",
              "      <td>0</td>\n",
              "      <td>SOTON/O.Q. 3101262</td>\n",
              "      <td>7.2500</td>\n",
              "      <td>NaN</td>\n",
              "      <td>S</td>\n",
              "    </tr>\n",
              "    <tr>\n",
              "      <th>416</th>\n",
              "      <td>1308</td>\n",
              "      <td>3</td>\n",
              "      <td>Ware, Mr. Frederick</td>\n",
              "      <td>male</td>\n",
              "      <td>NaN</td>\n",
              "      <td>0</td>\n",
              "      <td>0</td>\n",
              "      <td>359309</td>\n",
              "      <td>8.0500</td>\n",
              "      <td>NaN</td>\n",
              "      <td>S</td>\n",
              "    </tr>\n",
              "    <tr>\n",
              "      <th>417</th>\n",
              "      <td>1309</td>\n",
              "      <td>3</td>\n",
              "      <td>Peter, Master. Michael J</td>\n",
              "      <td>male</td>\n",
              "      <td>NaN</td>\n",
              "      <td>1</td>\n",
              "      <td>1</td>\n",
              "      <td>2668</td>\n",
              "      <td>22.3583</td>\n",
              "      <td>NaN</td>\n",
              "      <td>C</td>\n",
              "    </tr>\n",
              "  </tbody>\n",
              "</table>\n",
              "<p>418 rows × 11 columns</p>\n",
              "</div>"
            ],
            "text/plain": [
              "     PassengerId  Pclass  ... Cabin Embarked\n",
              "0            892       3  ...   NaN        Q\n",
              "1            893       3  ...   NaN        S\n",
              "2            894       2  ...   NaN        Q\n",
              "3            895       3  ...   NaN        S\n",
              "4            896       3  ...   NaN        S\n",
              "..           ...     ...  ...   ...      ...\n",
              "413         1305       3  ...   NaN        S\n",
              "414         1306       1  ...  C105        C\n",
              "415         1307       3  ...   NaN        S\n",
              "416         1308       3  ...   NaN        S\n",
              "417         1309       3  ...   NaN        C\n",
              "\n",
              "[418 rows x 11 columns]"
            ]
          },
          "metadata": {
            "tags": []
          },
          "execution_count": 88
        }
      ]
    },
    {
      "cell_type": "code",
      "metadata": {
        "id": "c-1LRVbQR5uA",
        "colab_type": "code",
        "colab": {}
      },
      "source": [
        "df2.set_index('PassengerId',inplace=True)"
      ],
      "execution_count": 89,
      "outputs": []
    },
    {
      "cell_type": "code",
      "metadata": {
        "id": "jNrN6QmzTZ8L",
        "colab_type": "code",
        "colab": {
          "base_uri": "https://localhost:8080/",
          "height": 235
        },
        "outputId": "3571f62f-76dc-47ef-cf85-9b4b7a813167"
      },
      "source": [
        "df2.head()"
      ],
      "execution_count": 90,
      "outputs": [
        {
          "output_type": "execute_result",
          "data": {
            "text/html": [
              "<div>\n",
              "<style scoped>\n",
              "    .dataframe tbody tr th:only-of-type {\n",
              "        vertical-align: middle;\n",
              "    }\n",
              "\n",
              "    .dataframe tbody tr th {\n",
              "        vertical-align: top;\n",
              "    }\n",
              "\n",
              "    .dataframe thead th {\n",
              "        text-align: right;\n",
              "    }\n",
              "</style>\n",
              "<table border=\"1\" class=\"dataframe\">\n",
              "  <thead>\n",
              "    <tr style=\"text-align: right;\">\n",
              "      <th></th>\n",
              "      <th>Pclass</th>\n",
              "      <th>Name</th>\n",
              "      <th>Sex</th>\n",
              "      <th>Age</th>\n",
              "      <th>SibSp</th>\n",
              "      <th>Parch</th>\n",
              "      <th>Ticket</th>\n",
              "      <th>Fare</th>\n",
              "      <th>Cabin</th>\n",
              "      <th>Embarked</th>\n",
              "    </tr>\n",
              "    <tr>\n",
              "      <th>PassengerId</th>\n",
              "      <th></th>\n",
              "      <th></th>\n",
              "      <th></th>\n",
              "      <th></th>\n",
              "      <th></th>\n",
              "      <th></th>\n",
              "      <th></th>\n",
              "      <th></th>\n",
              "      <th></th>\n",
              "      <th></th>\n",
              "    </tr>\n",
              "  </thead>\n",
              "  <tbody>\n",
              "    <tr>\n",
              "      <th>892</th>\n",
              "      <td>3</td>\n",
              "      <td>Kelly, Mr. James</td>\n",
              "      <td>male</td>\n",
              "      <td>34.5</td>\n",
              "      <td>0</td>\n",
              "      <td>0</td>\n",
              "      <td>330911</td>\n",
              "      <td>7.8292</td>\n",
              "      <td>NaN</td>\n",
              "      <td>Q</td>\n",
              "    </tr>\n",
              "    <tr>\n",
              "      <th>893</th>\n",
              "      <td>3</td>\n",
              "      <td>Wilkes, Mrs. James (Ellen Needs)</td>\n",
              "      <td>female</td>\n",
              "      <td>47.0</td>\n",
              "      <td>1</td>\n",
              "      <td>0</td>\n",
              "      <td>363272</td>\n",
              "      <td>7.0000</td>\n",
              "      <td>NaN</td>\n",
              "      <td>S</td>\n",
              "    </tr>\n",
              "    <tr>\n",
              "      <th>894</th>\n",
              "      <td>2</td>\n",
              "      <td>Myles, Mr. Thomas Francis</td>\n",
              "      <td>male</td>\n",
              "      <td>62.0</td>\n",
              "      <td>0</td>\n",
              "      <td>0</td>\n",
              "      <td>240276</td>\n",
              "      <td>9.6875</td>\n",
              "      <td>NaN</td>\n",
              "      <td>Q</td>\n",
              "    </tr>\n",
              "    <tr>\n",
              "      <th>895</th>\n",
              "      <td>3</td>\n",
              "      <td>Wirz, Mr. Albert</td>\n",
              "      <td>male</td>\n",
              "      <td>27.0</td>\n",
              "      <td>0</td>\n",
              "      <td>0</td>\n",
              "      <td>315154</td>\n",
              "      <td>8.6625</td>\n",
              "      <td>NaN</td>\n",
              "      <td>S</td>\n",
              "    </tr>\n",
              "    <tr>\n",
              "      <th>896</th>\n",
              "      <td>3</td>\n",
              "      <td>Hirvonen, Mrs. Alexander (Helga E Lindqvist)</td>\n",
              "      <td>female</td>\n",
              "      <td>22.0</td>\n",
              "      <td>1</td>\n",
              "      <td>1</td>\n",
              "      <td>3101298</td>\n",
              "      <td>12.2875</td>\n",
              "      <td>NaN</td>\n",
              "      <td>S</td>\n",
              "    </tr>\n",
              "  </tbody>\n",
              "</table>\n",
              "</div>"
            ],
            "text/plain": [
              "             Pclass  ... Embarked\n",
              "PassengerId          ...         \n",
              "892               3  ...        Q\n",
              "893               3  ...        S\n",
              "894               2  ...        Q\n",
              "895               3  ...        S\n",
              "896               3  ...        S\n",
              "\n",
              "[5 rows x 10 columns]"
            ]
          },
          "metadata": {
            "tags": []
          },
          "execution_count": 90
        }
      ]
    },
    {
      "cell_type": "code",
      "metadata": {
        "id": "mhzqlYkoZvje",
        "colab_type": "code",
        "colab": {
          "base_uri": "https://localhost:8080/",
          "height": 34
        },
        "outputId": "d7d4a6ee-b55e-4636-f4df-faf626624a56"
      },
      "source": [
        ""
      ],
      "execution_count": 109,
      "outputs": [
        {
          "output_type": "execute_result",
          "data": {
            "text/plain": [
              "892"
            ]
          },
          "metadata": {
            "tags": []
          },
          "execution_count": 109
        }
      ]
    },
    {
      "cell_type": "code",
      "metadata": {
        "id": "D4LWalhKXqmI",
        "colab_type": "code",
        "colab": {}
      },
      "source": [
        " df2.fillna(df2.mean(),inplace=True)"
      ],
      "execution_count": 92,
      "outputs": []
    },
    {
      "cell_type": "code",
      "metadata": {
        "id": "l8lS4DLoTjyb",
        "colab_type": "code",
        "colab": {}
      },
      "source": [
        "df2['SibSp'].unique()"
      ],
      "execution_count": null,
      "outputs": []
    },
    {
      "cell_type": "code",
      "metadata": {
        "id": "uAxBLAz7Y3nM",
        "colab_type": "code",
        "colab": {
          "base_uri": "https://localhost:8080/",
          "height": 34
        },
        "outputId": "9cea40f7-e771-467a-9a94-bd33fb687d24"
      },
      "source": [
        "len(df2)"
      ],
      "execution_count": 101,
      "outputs": [
        {
          "output_type": "execute_result",
          "data": {
            "text/plain": [
              "418"
            ]
          },
          "metadata": {
            "tags": []
          },
          "execution_count": 101
        }
      ]
    },
    {
      "cell_type": "code",
      "metadata": {
        "id": "q57yXglTXLGm",
        "colab_type": "code",
        "colab": {}
      },
      "source": [
        "cat_cols = ['Sex','Embarked','Pclass']\n",
        "cont_cols = ['Age','SibSp','Parch','Fare']\n",
        "y_col = ['Survived']"
      ],
      "execution_count": 93,
      "outputs": []
    },
    {
      "cell_type": "code",
      "metadata": {
        "id": "_-O5gBtXX1io",
        "colab_type": "code",
        "colab": {}
      },
      "source": [
        "for cat in cat_cols:\n",
        "    df2[cat] = df2[cat].astype('category')"
      ],
      "execution_count": 94,
      "outputs": []
    },
    {
      "cell_type": "code",
      "metadata": {
        "id": "FowOUq3FX784",
        "colab_type": "code",
        "colab": {}
      },
      "source": [
        "Sx = df2['Sex'].cat.codes.values\n",
        "Em = df2['Embarked'].cat.codes.values\n",
        "Pc = df2['Pclass'].cat.codes.values\n",
        "\n",
        "cats_t = np.stack([Sx,Em,Pc], 1)\n",
        "cats_t = torch.LongTensor(cats)"
      ],
      "execution_count": 95,
      "outputs": []
    },
    {
      "cell_type": "code",
      "metadata": {
        "id": "QKl9EA8cYMQE",
        "colab_type": "code",
        "colab": {}
      },
      "source": [
        "conts_t = np.stack([df2[col].values for col in cont_cols], 1)\n",
        "conts_t = torch.FloatTensor(conts)"
      ],
      "execution_count": 96,
      "outputs": []
    },
    {
      "cell_type": "code",
      "metadata": {
        "id": "FoE1IwskXDW5",
        "colab_type": "code",
        "colab": {}
      },
      "source": [
        "cat_test = cats_t\n",
        "con_test = conts_t\n"
      ],
      "execution_count": 99,
      "outputs": []
    },
    {
      "cell_type": "code",
      "metadata": {
        "id": "v60slWqe5CKv",
        "colab_type": "code",
        "colab": {}
      },
      "source": [
        "with torch.no_grad():\n",
        "    y_val = model(cat_test,con_test)\n",
        "    \n",
        "    "
      ],
      "execution_count": 112,
      "outputs": []
    },
    {
      "cell_type": "code",
      "metadata": {
        "id": "2hNIjpDEYwNK",
        "colab_type": "code",
        "colab": {}
      },
      "source": [
        "Surviverlist = []\n",
        "for i in range(418):\n",
        "  Surviverlist.append([df2.index[i],y_val[i].argmax().numpy()])\n",
        "\n",
        "    \n",
        "  print('{}.) Predicted:: {:8.2f}'.format(df2.index[i],y_val[i].argmax().numpy()))"
      ],
      "execution_count": null,
      "outputs": []
    },
    {
      "cell_type": "code",
      "metadata": {
        "id": "AhCBNMY8bTZc",
        "colab_type": "code",
        "colab": {
          "base_uri": "https://localhost:8080/",
          "height": 1000
        },
        "outputId": "fde5f796-deec-4bbf-c66f-cf6522a0037c"
      },
      "source": [
        "Surviverlist"
      ],
      "execution_count": 154,
      "outputs": [
        {
          "output_type": "execute_result",
          "data": {
            "text/plain": [
              "[[892, array(0)],\n",
              " [893, array(1)],\n",
              " [894, array(0)],\n",
              " [895, array(0)],\n",
              " [896, array(0)],\n",
              " [897, array(0)],\n",
              " [898, array(0)],\n",
              " [899, array(1)],\n",
              " [900, array(1)],\n",
              " [901, array(1)],\n",
              " [902, array(1)],\n",
              " [903, array(0)],\n",
              " [904, array(0)],\n",
              " [905, array(0)],\n",
              " [906, array(1)],\n",
              " [907, array(0)],\n",
              " [908, array(0)],\n",
              " [909, array(0)],\n",
              " [910, array(0)],\n",
              " [911, array(1)],\n",
              " [912, array(1)],\n",
              " [913, array(0)],\n",
              " [914, array(0)],\n",
              " [915, array(0)],\n",
              " [916, array(0)],\n",
              " [917, array(1)],\n",
              " [918, array(1)],\n",
              " [919, array(1)],\n",
              " [920, array(0)],\n",
              " [921, array(0)],\n",
              " [922, array(1)],\n",
              " [923, array(0)],\n",
              " [924, array(0)],\n",
              " [925, array(1)],\n",
              " [926, array(0)],\n",
              " [927, array(0)],\n",
              " [928, array(0)],\n",
              " [929, array(0)],\n",
              " [930, array(1)],\n",
              " [931, array(1)],\n",
              " [932, array(0)],\n",
              " [933, array(0)],\n",
              " [934, array(0)],\n",
              " [935, array(1)],\n",
              " [936, array(0)],\n",
              " [937, array(0)],\n",
              " [938, array(0)],\n",
              " [939, array(0)],\n",
              " [940, array(1)],\n",
              " [941, array(0)],\n",
              " [942, array(1)],\n",
              " [943, array(0)],\n",
              " [944, array(0)],\n",
              " [945, array(0)],\n",
              " [946, array(0)],\n",
              " [947, array(0)],\n",
              " [948, array(1)],\n",
              " [949, array(0)],\n",
              " [950, array(1)],\n",
              " [951, array(1)],\n",
              " [952, array(0)],\n",
              " [953, array(0)],\n",
              " [954, array(1)],\n",
              " [955, array(1)],\n",
              " [956, array(1)],\n",
              " [957, array(0)],\n",
              " [958, array(1)],\n",
              " [959, array(0)],\n",
              " [960, array(0)],\n",
              " [961, array(0)],\n",
              " [962, array(0)],\n",
              " [963, array(0)],\n",
              " [964, array(0)],\n",
              " [965, array(0)],\n",
              " [966, array(1)],\n",
              " [967, array(1)],\n",
              " [968, array(0)],\n",
              " [969, array(0)],\n",
              " [970, array(0)],\n",
              " [971, array(0)],\n",
              " [972, array(0)],\n",
              " [973, array(0)],\n",
              " [974, array(0)],\n",
              " [975, array(0)],\n",
              " [976, array(0)],\n",
              " [977, array(0)],\n",
              " [978, array(0)],\n",
              " [979, array(0)],\n",
              " [980, array(0)],\n",
              " [981, array(0)],\n",
              " [982, array(0)],\n",
              " [983, array(0)],\n",
              " [984, array(0)],\n",
              " [985, array(1)],\n",
              " [986, array(0)],\n",
              " [987, array(0)],\n",
              " [988, array(0)],\n",
              " [989, array(0)],\n",
              " [990, array(1)],\n",
              " [991, array(0)],\n",
              " [992, array(0)],\n",
              " [993, array(0)],\n",
              " [994, array(0)],\n",
              " [995, array(0)],\n",
              " [996, array(1)],\n",
              " [997, array(0)],\n",
              " [998, array(1)],\n",
              " [999, array(1)],\n",
              " [1000, array(0)],\n",
              " [1001, array(0)],\n",
              " [1002, array(1)],\n",
              " [1003, array(0)],\n",
              " [1004, array(0)],\n",
              " [1005, array(0)],\n",
              " [1006, array(1)],\n",
              " [1007, array(0)],\n",
              " [1008, array(0)],\n",
              " [1009, array(0)],\n",
              " [1010, array(1)],\n",
              " [1011, array(0)],\n",
              " [1012, array(0)],\n",
              " [1013, array(1)],\n",
              " [1014, array(0)],\n",
              " [1015, array(0)],\n",
              " [1016, array(1)],\n",
              " [1017, array(0)],\n",
              " [1018, array(0)],\n",
              " [1019, array(0)],\n",
              " [1020, array(1)],\n",
              " [1021, array(0)],\n",
              " [1022, array(0)],\n",
              " [1023, array(0)],\n",
              " [1024, array(1)],\n",
              " [1025, array(0)],\n",
              " [1026, array(0)],\n",
              " [1027, array(0)],\n",
              " [1028, array(0)],\n",
              " [1029, array(1)],\n",
              " [1030, array(0)],\n",
              " [1031, array(0)],\n",
              " [1032, array(0)],\n",
              " [1033, array(0)],\n",
              " [1034, array(1)],\n",
              " [1035, array(0)],\n",
              " [1036, array(0)],\n",
              " [1037, array(1)],\n",
              " [1038, array(1)],\n",
              " [1039, array(1)],\n",
              " [1040, array(0)],\n",
              " [1041, array(0)],\n",
              " [1042, array(1)],\n",
              " [1043, array(0)],\n",
              " [1044, array(0)],\n",
              " [1045, array(1)],\n",
              " [1046, array(0)],\n",
              " [1047, array(1)],\n",
              " [1048, array(0)],\n",
              " [1049, array(1)],\n",
              " [1050, array(0)],\n",
              " [1051, array(0)],\n",
              " [1052, array(0)],\n",
              " [1053, array(0)],\n",
              " [1054, array(1)],\n",
              " [1055, array(0)],\n",
              " [1056, array(0)],\n",
              " [1057, array(1)],\n",
              " [1058, array(1)],\n",
              " [1059, array(0)],\n",
              " [1060, array(0)],\n",
              " [1061, array(0)],\n",
              " [1062, array(0)],\n",
              " [1063, array(1)],\n",
              " [1064, array(0)],\n",
              " [1065, array(0)],\n",
              " [1066, array(1)],\n",
              " [1067, array(0)],\n",
              " [1068, array(0)],\n",
              " [1069, array(0)],\n",
              " [1070, array(0)],\n",
              " [1071, array(0)],\n",
              " [1072, array(0)],\n",
              " [1073, array(0)],\n",
              " [1074, array(0)],\n",
              " [1075, array(0)],\n",
              " [1076, array(0)],\n",
              " [1077, array(0)],\n",
              " [1078, array(0)],\n",
              " [1079, array(0)],\n",
              " [1080, array(0)],\n",
              " [1081, array(0)],\n",
              " [1082, array(1)],\n",
              " [1083, array(0)],\n",
              " [1084, array(0)],\n",
              " [1085, array(0)],\n",
              " [1086, array(0)],\n",
              " [1087, array(0)],\n",
              " [1088, array(0)],\n",
              " [1089, array(0)],\n",
              " [1090, array(1)],\n",
              " [1091, array(1)],\n",
              " [1092, array(0)],\n",
              " [1093, array(0)],\n",
              " [1094, array(0)],\n",
              " [1095, array(0)],\n",
              " [1096, array(0)],\n",
              " [1097, array(0)],\n",
              " [1098, array(1)],\n",
              " [1099, array(1)],\n",
              " [1100, array(1)],\n",
              " [1101, array(0)],\n",
              " [1102, array(0)],\n",
              " [1103, array(0)],\n",
              " [1104, array(0)],\n",
              " [1105, array(0)],\n",
              " [1106, array(0)],\n",
              " [1107, array(1)],\n",
              " [1108, array(1)],\n",
              " [1109, array(0)],\n",
              " [1110, array(1)],\n",
              " [1111, array(0)],\n",
              " [1112, array(1)],\n",
              " [1113, array(0)],\n",
              " [1114, array(0)],\n",
              " [1115, array(1)],\n",
              " [1116, array(0)],\n",
              " [1117, array(0)],\n",
              " [1118, array(0)],\n",
              " [1119, array(0)],\n",
              " [1120, array(0)],\n",
              " [1121, array(0)],\n",
              " [1122, array(0)],\n",
              " [1123, array(0)],\n",
              " [1124, array(0)],\n",
              " [1125, array(1)],\n",
              " [1126, array(1)],\n",
              " [1127, array(0)],\n",
              " [1128, array(0)],\n",
              " [1129, array(0)],\n",
              " [1130, array(0)],\n",
              " [1131, array(1)],\n",
              " [1132, array(1)],\n",
              " [1133, array(1)],\n",
              " [1134, array(0)],\n",
              " [1135, array(1)],\n",
              " [1136, array(0)],\n",
              " [1137, array(1)],\n",
              " [1138, array(1)],\n",
              " [1139, array(1)],\n",
              " [1140, array(1)],\n",
              " [1141, array(0)],\n",
              " [1142, array(0)],\n",
              " [1143, array(0)],\n",
              " [1144, array(1)],\n",
              " [1145, array(0)],\n",
              " [1146, array(1)],\n",
              " [1147, array(1)],\n",
              " [1148, array(0)],\n",
              " [1149, array(0)],\n",
              " [1150, array(1)],\n",
              " [1151, array(1)],\n",
              " [1152, array(1)],\n",
              " [1153, array(0)],\n",
              " [1154, array(1)],\n",
              " [1155, array(0)],\n",
              " [1156, array(1)],\n",
              " [1157, array(0)],\n",
              " [1158, array(0)],\n",
              " [1159, array(0)],\n",
              " [1160, array(0)],\n",
              " [1161, array(1)],\n",
              " [1162, array(0)],\n",
              " [1163, array(0)],\n",
              " [1164, array(1)],\n",
              " [1165, array(1)],\n",
              " [1166, array(0)],\n",
              " [1167, array(0)],\n",
              " [1168, array(0)],\n",
              " [1169, array(0)],\n",
              " [1170, array(1)],\n",
              " [1171, array(1)],\n",
              " [1172, array(0)],\n",
              " [1173, array(0)],\n",
              " [1174, array(0)],\n",
              " [1175, array(0)],\n",
              " [1176, array(0)],\n",
              " [1177, array(1)],\n",
              " [1178, array(1)],\n",
              " [1179, array(0)],\n",
              " [1180, array(0)],\n",
              " [1181, array(0)],\n",
              " [1182, array(0)],\n",
              " [1183, array(0)],\n",
              " [1184, array(1)],\n",
              " [1185, array(1)],\n",
              " [1186, array(1)],\n",
              " [1187, array(0)],\n",
              " [1188, array(0)],\n",
              " [1189, array(0)],\n",
              " [1190, array(0)],\n",
              " [1191, array(0)],\n",
              " [1192, array(0)],\n",
              " [1193, array(0)],\n",
              " [1194, array(0)],\n",
              " [1195, array(1)],\n",
              " [1196, array(1)],\n",
              " [1197, array(0)],\n",
              " [1198, array(1)],\n",
              " [1199, array(1)],\n",
              " [1200, array(0)],\n",
              " [1201, array(1)],\n",
              " [1202, array(0)],\n",
              " [1203, array(1)],\n",
              " [1204, array(0)],\n",
              " [1205, array(0)],\n",
              " [1206, array(1)],\n",
              " [1207, array(1)],\n",
              " [1208, array(0)],\n",
              " [1209, array(0)],\n",
              " [1210, array(0)],\n",
              " [1211, array(0)],\n",
              " [1212, array(0)],\n",
              " [1213, array(0)],\n",
              " [1214, array(0)],\n",
              " [1215, array(0)],\n",
              " [1216, array(0)],\n",
              " [1217, array(0)],\n",
              " [1218, array(0)],\n",
              " [1219, array(0)],\n",
              " [1220, array(1)],\n",
              " [1221, array(0)],\n",
              " [1222, array(1)],\n",
              " [1223, array(0)],\n",
              " [1224, array(1)],\n",
              " [1225, array(1)],\n",
              " [1226, array(0)],\n",
              " [1227, array(1)],\n",
              " [1228, array(0)],\n",
              " [1229, array(0)],\n",
              " [1230, array(0)],\n",
              " [1231, array(0)],\n",
              " [1232, array(1)],\n",
              " [1233, array(1)],\n",
              " [1234, array(0)],\n",
              " [1235, array(0)],\n",
              " [1236, array(1)],\n",
              " [1237, array(0)],\n",
              " [1238, array(1)],\n",
              " [1239, array(1)],\n",
              " [1240, array(0)],\n",
              " [1241, array(1)],\n",
              " [1242, array(0)],\n",
              " [1243, array(0)],\n",
              " [1244, array(1)],\n",
              " [1245, array(0)],\n",
              " [1246, array(0)],\n",
              " [1247, array(0)],\n",
              " [1248, array(1)],\n",
              " [1249, array(1)],\n",
              " [1250, array(1)],\n",
              " [1251, array(1)],\n",
              " [1252, array(0)],\n",
              " [1253, array(1)],\n",
              " [1254, array(1)],\n",
              " [1255, array(1)],\n",
              " [1256, array(0)],\n",
              " [1257, array(0)],\n",
              " [1258, array(0)],\n",
              " [1259, array(1)],\n",
              " [1260, array(0)],\n",
              " [1261, array(0)],\n",
              " [1262, array(0)],\n",
              " [1263, array(0)],\n",
              " [1264, array(0)],\n",
              " [1265, array(1)],\n",
              " [1266, array(0)],\n",
              " [1267, array(1)],\n",
              " [1268, array(1)],\n",
              " [1269, array(0)],\n",
              " [1270, array(0)],\n",
              " [1271, array(0)],\n",
              " [1272, array(0)],\n",
              " [1273, array(1)],\n",
              " [1274, array(0)],\n",
              " [1275, array(0)],\n",
              " [1276, array(0)],\n",
              " [1277, array(1)],\n",
              " [1278, array(1)],\n",
              " [1279, array(0)],\n",
              " [1280, array(0)],\n",
              " [1281, array(1)],\n",
              " [1282, array(0)],\n",
              " [1283, array(0)],\n",
              " [1284, array(0)],\n",
              " [1285, array(0)],\n",
              " [1286, array(1)],\n",
              " [1287, array(0)],\n",
              " [1288, array(0)],\n",
              " [1289, array(0)],\n",
              " [1290, array(0)],\n",
              " [1291, array(0)],\n",
              " [1292, array(1)],\n",
              " [1293, array(1)],\n",
              " [1294, array(1)],\n",
              " [1295, array(0)],\n",
              " [1296, array(1)],\n",
              " [1297, array(0)],\n",
              " [1298, array(1)],\n",
              " [1299, array(1)],\n",
              " [1300, array(0)],\n",
              " [1301, array(0)],\n",
              " [1302, array(0)],\n",
              " [1303, array(1)],\n",
              " [1304, array(0)],\n",
              " [1305, array(1)],\n",
              " [1306, array(0)],\n",
              " [1307, array(1)],\n",
              " [1308, array(0)],\n",
              " [1309, array(1)]]"
            ]
          },
          "metadata": {
            "tags": []
          },
          "execution_count": 154
        }
      ]
    },
    {
      "cell_type": "code",
      "metadata": {
        "id": "TcD8nm7Rbj6r",
        "colab_type": "code",
        "colab": {}
      },
      "source": [
        "df3 = pd.DataFrame(Surviverlist)"
      ],
      "execution_count": 156,
      "outputs": []
    },
    {
      "cell_type": "code",
      "metadata": {
        "id": "Xk1roaAweDDr",
        "colab_type": "code",
        "colab": {}
      },
      "source": [
        "df3.to_excel(r'C:\\sample_data\\submission.xlsx', index = False)"
      ],
      "execution_count": 159,
      "outputs": []
    }
  ]
}