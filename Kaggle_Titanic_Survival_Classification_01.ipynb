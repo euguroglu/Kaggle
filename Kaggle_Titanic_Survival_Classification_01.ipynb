{
  "nbformat": 4,
  "nbformat_minor": 0,
  "metadata": {
    "colab": {
      "name": "Kaggle_Titanic_Survival_Classification_01.ipynb",
      "provenance": [],
      "authorship_tag": "ABX9TyNihtMX9HXAhtQZROwQB9Da",
      "include_colab_link": true
    },
    "kernelspec": {
      "name": "python3",
      "display_name": "Python 3"
    }
  },
  "cells": [
    {
      "cell_type": "markdown",
      "metadata": {
        "id": "view-in-github",
        "colab_type": "text"
      },
      "source": [
        "<a href=\"https://colab.research.google.com/github/euguroglu/Kaggle/blob/master/Kaggle_Titanic_Survival_Classification_01.ipynb\" target=\"_parent\"><img src=\"https://colab.research.google.com/assets/colab-badge.svg\" alt=\"Open In Colab\"/></a>"
      ]
    },
    {
      "cell_type": "markdown",
      "metadata": {
        "id": "xCczTmV5kyXg",
        "colab_type": "text"
      },
      "source": [
        "Importing libraries"
      ]
    },
    {
      "cell_type": "code",
      "metadata": {
        "id": "hPEA_ViTYWih",
        "colab_type": "code",
        "colab": {
          "base_uri": "https://localhost:8080/",
          "height": 54
        },
        "outputId": "83abad87-8c2e-4e06-8f90-ce87f61aa54b"
      },
      "source": [
        "import torch\n",
        "import numpy as np\n",
        "import matplotlib.pyplot as plt\n",
        "import torch.nn as nn\n",
        "import pandas as pd\n",
        "import math\n",
        "from sklearn.preprocessing import StandardScaler\n",
        "from matplotlib.pyplot import figure\n",
        "import seaborn as sns"
      ],
      "execution_count": 1,
      "outputs": [
        {
          "output_type": "stream",
          "text": [
            "/usr/local/lib/python3.6/dist-packages/statsmodels/tools/_testing.py:19: FutureWarning: pandas.util.testing is deprecated. Use the functions in the public API at pandas.testing instead.\n",
            "  import pandas.util.testing as tm\n"
          ],
          "name": "stderr"
        }
      ]
    },
    {
      "cell_type": "markdown",
      "metadata": {
        "id": "oJ6TfT6wk1nf",
        "colab_type": "text"
      },
      "source": [
        "Data check and preperation"
      ]
    },
    {
      "cell_type": "code",
      "metadata": {
        "id": "xD5F0s8eYjn5",
        "colab_type": "code",
        "colab": {}
      },
      "source": [
        "df = pd.read_csv('train.csv')"
      ],
      "execution_count": 3,
      "outputs": []
    },
    {
      "cell_type": "code",
      "metadata": {
        "id": "C5-b1IwbYpqU",
        "colab_type": "code",
        "colab": {
          "base_uri": "https://localhost:8080/",
          "height": 424
        },
        "outputId": "43bb0980-69bd-4fe0-ce2c-2161bab20942"
      },
      "source": [
        "df"
      ],
      "execution_count": 4,
      "outputs": [
        {
          "output_type": "execute_result",
          "data": {
            "text/html": [
              "<div>\n",
              "<style scoped>\n",
              "    .dataframe tbody tr th:only-of-type {\n",
              "        vertical-align: middle;\n",
              "    }\n",
              "\n",
              "    .dataframe tbody tr th {\n",
              "        vertical-align: top;\n",
              "    }\n",
              "\n",
              "    .dataframe thead th {\n",
              "        text-align: right;\n",
              "    }\n",
              "</style>\n",
              "<table border=\"1\" class=\"dataframe\">\n",
              "  <thead>\n",
              "    <tr style=\"text-align: right;\">\n",
              "      <th></th>\n",
              "      <th>PassengerId</th>\n",
              "      <th>Survived</th>\n",
              "      <th>Pclass</th>\n",
              "      <th>Name</th>\n",
              "      <th>Sex</th>\n",
              "      <th>Age</th>\n",
              "      <th>SibSp</th>\n",
              "      <th>Parch</th>\n",
              "      <th>Ticket</th>\n",
              "      <th>Fare</th>\n",
              "      <th>Cabin</th>\n",
              "      <th>Embarked</th>\n",
              "    </tr>\n",
              "  </thead>\n",
              "  <tbody>\n",
              "    <tr>\n",
              "      <th>0</th>\n",
              "      <td>1</td>\n",
              "      <td>0</td>\n",
              "      <td>3</td>\n",
              "      <td>Braund, Mr. Owen Harris</td>\n",
              "      <td>male</td>\n",
              "      <td>22.0</td>\n",
              "      <td>1</td>\n",
              "      <td>0</td>\n",
              "      <td>A/5 21171</td>\n",
              "      <td>7.2500</td>\n",
              "      <td>NaN</td>\n",
              "      <td>S</td>\n",
              "    </tr>\n",
              "    <tr>\n",
              "      <th>1</th>\n",
              "      <td>2</td>\n",
              "      <td>1</td>\n",
              "      <td>1</td>\n",
              "      <td>Cumings, Mrs. John Bradley (Florence Briggs Th...</td>\n",
              "      <td>female</td>\n",
              "      <td>38.0</td>\n",
              "      <td>1</td>\n",
              "      <td>0</td>\n",
              "      <td>PC 17599</td>\n",
              "      <td>71.2833</td>\n",
              "      <td>C85</td>\n",
              "      <td>C</td>\n",
              "    </tr>\n",
              "    <tr>\n",
              "      <th>2</th>\n",
              "      <td>3</td>\n",
              "      <td>1</td>\n",
              "      <td>3</td>\n",
              "      <td>Heikkinen, Miss. Laina</td>\n",
              "      <td>female</td>\n",
              "      <td>26.0</td>\n",
              "      <td>0</td>\n",
              "      <td>0</td>\n",
              "      <td>STON/O2. 3101282</td>\n",
              "      <td>7.9250</td>\n",
              "      <td>NaN</td>\n",
              "      <td>S</td>\n",
              "    </tr>\n",
              "    <tr>\n",
              "      <th>3</th>\n",
              "      <td>4</td>\n",
              "      <td>1</td>\n",
              "      <td>1</td>\n",
              "      <td>Futrelle, Mrs. Jacques Heath (Lily May Peel)</td>\n",
              "      <td>female</td>\n",
              "      <td>35.0</td>\n",
              "      <td>1</td>\n",
              "      <td>0</td>\n",
              "      <td>113803</td>\n",
              "      <td>53.1000</td>\n",
              "      <td>C123</td>\n",
              "      <td>S</td>\n",
              "    </tr>\n",
              "    <tr>\n",
              "      <th>4</th>\n",
              "      <td>5</td>\n",
              "      <td>0</td>\n",
              "      <td>3</td>\n",
              "      <td>Allen, Mr. William Henry</td>\n",
              "      <td>male</td>\n",
              "      <td>35.0</td>\n",
              "      <td>0</td>\n",
              "      <td>0</td>\n",
              "      <td>373450</td>\n",
              "      <td>8.0500</td>\n",
              "      <td>NaN</td>\n",
              "      <td>S</td>\n",
              "    </tr>\n",
              "    <tr>\n",
              "      <th>...</th>\n",
              "      <td>...</td>\n",
              "      <td>...</td>\n",
              "      <td>...</td>\n",
              "      <td>...</td>\n",
              "      <td>...</td>\n",
              "      <td>...</td>\n",
              "      <td>...</td>\n",
              "      <td>...</td>\n",
              "      <td>...</td>\n",
              "      <td>...</td>\n",
              "      <td>...</td>\n",
              "      <td>...</td>\n",
              "    </tr>\n",
              "    <tr>\n",
              "      <th>886</th>\n",
              "      <td>887</td>\n",
              "      <td>0</td>\n",
              "      <td>2</td>\n",
              "      <td>Montvila, Rev. Juozas</td>\n",
              "      <td>male</td>\n",
              "      <td>27.0</td>\n",
              "      <td>0</td>\n",
              "      <td>0</td>\n",
              "      <td>211536</td>\n",
              "      <td>13.0000</td>\n",
              "      <td>NaN</td>\n",
              "      <td>S</td>\n",
              "    </tr>\n",
              "    <tr>\n",
              "      <th>887</th>\n",
              "      <td>888</td>\n",
              "      <td>1</td>\n",
              "      <td>1</td>\n",
              "      <td>Graham, Miss. Margaret Edith</td>\n",
              "      <td>female</td>\n",
              "      <td>19.0</td>\n",
              "      <td>0</td>\n",
              "      <td>0</td>\n",
              "      <td>112053</td>\n",
              "      <td>30.0000</td>\n",
              "      <td>B42</td>\n",
              "      <td>S</td>\n",
              "    </tr>\n",
              "    <tr>\n",
              "      <th>888</th>\n",
              "      <td>889</td>\n",
              "      <td>0</td>\n",
              "      <td>3</td>\n",
              "      <td>Johnston, Miss. Catherine Helen \"Carrie\"</td>\n",
              "      <td>female</td>\n",
              "      <td>NaN</td>\n",
              "      <td>1</td>\n",
              "      <td>2</td>\n",
              "      <td>W./C. 6607</td>\n",
              "      <td>23.4500</td>\n",
              "      <td>NaN</td>\n",
              "      <td>S</td>\n",
              "    </tr>\n",
              "    <tr>\n",
              "      <th>889</th>\n",
              "      <td>890</td>\n",
              "      <td>1</td>\n",
              "      <td>1</td>\n",
              "      <td>Behr, Mr. Karl Howell</td>\n",
              "      <td>male</td>\n",
              "      <td>26.0</td>\n",
              "      <td>0</td>\n",
              "      <td>0</td>\n",
              "      <td>111369</td>\n",
              "      <td>30.0000</td>\n",
              "      <td>C148</td>\n",
              "      <td>C</td>\n",
              "    </tr>\n",
              "    <tr>\n",
              "      <th>890</th>\n",
              "      <td>891</td>\n",
              "      <td>0</td>\n",
              "      <td>3</td>\n",
              "      <td>Dooley, Mr. Patrick</td>\n",
              "      <td>male</td>\n",
              "      <td>32.0</td>\n",
              "      <td>0</td>\n",
              "      <td>0</td>\n",
              "      <td>370376</td>\n",
              "      <td>7.7500</td>\n",
              "      <td>NaN</td>\n",
              "      <td>Q</td>\n",
              "    </tr>\n",
              "  </tbody>\n",
              "</table>\n",
              "<p>891 rows × 12 columns</p>\n",
              "</div>"
            ],
            "text/plain": [
              "     PassengerId  Survived  Pclass  ...     Fare Cabin  Embarked\n",
              "0              1         0       3  ...   7.2500   NaN         S\n",
              "1              2         1       1  ...  71.2833   C85         C\n",
              "2              3         1       3  ...   7.9250   NaN         S\n",
              "3              4         1       1  ...  53.1000  C123         S\n",
              "4              5         0       3  ...   8.0500   NaN         S\n",
              "..           ...       ...     ...  ...      ...   ...       ...\n",
              "886          887         0       2  ...  13.0000   NaN         S\n",
              "887          888         1       1  ...  30.0000   B42         S\n",
              "888          889         0       3  ...  23.4500   NaN         S\n",
              "889          890         1       1  ...  30.0000  C148         C\n",
              "890          891         0       3  ...   7.7500   NaN         Q\n",
              "\n",
              "[891 rows x 12 columns]"
            ]
          },
          "metadata": {
            "tags": []
          },
          "execution_count": 4
        }
      ]
    },
    {
      "cell_type": "code",
      "metadata": {
        "id": "YCCPmWrxYqAY",
        "colab_type": "code",
        "colab": {
          "base_uri": "https://localhost:8080/",
          "height": 35
        },
        "outputId": "ced5d03a-7981-4cec-f827-45669d1b2c97"
      },
      "source": [
        "df['Parch'].unique()"
      ],
      "execution_count": 5,
      "outputs": [
        {
          "output_type": "execute_result",
          "data": {
            "text/plain": [
              "array([0, 1, 2, 5, 3, 4, 6])"
            ]
          },
          "metadata": {
            "tags": []
          },
          "execution_count": 5
        }
      ]
    },
    {
      "cell_type": "code",
      "metadata": {
        "id": "UtLNStTAaAi3",
        "colab_type": "code",
        "colab": {
          "base_uri": "https://localhost:8080/",
          "height": 35
        },
        "outputId": "b4e1d844-c455-46e3-e345-46212f4496b3"
      },
      "source": [
        "df['SibSp'].unique()"
      ],
      "execution_count": 6,
      "outputs": [
        {
          "output_type": "execute_result",
          "data": {
            "text/plain": [
              "array([1, 0, 3, 4, 2, 5, 8])"
            ]
          },
          "metadata": {
            "tags": []
          },
          "execution_count": 6
        }
      ]
    },
    {
      "cell_type": "code",
      "metadata": {
        "id": "X-Xv-9Dlavf-",
        "colab_type": "code",
        "colab": {}
      },
      "source": [
        "df.set_index('PassengerId',inplace=True)"
      ],
      "execution_count": 7,
      "outputs": []
    },
    {
      "cell_type": "code",
      "metadata": {
        "id": "_4Qc8EGKbOIe",
        "colab_type": "code",
        "colab": {
          "base_uri": "https://localhost:8080/",
          "height": 455
        },
        "outputId": "1c5eb223-5baf-4eff-ac2d-a61fff62d1ae"
      },
      "source": [
        "df"
      ],
      "execution_count": 8,
      "outputs": [
        {
          "output_type": "execute_result",
          "data": {
            "text/html": [
              "<div>\n",
              "<style scoped>\n",
              "    .dataframe tbody tr th:only-of-type {\n",
              "        vertical-align: middle;\n",
              "    }\n",
              "\n",
              "    .dataframe tbody tr th {\n",
              "        vertical-align: top;\n",
              "    }\n",
              "\n",
              "    .dataframe thead th {\n",
              "        text-align: right;\n",
              "    }\n",
              "</style>\n",
              "<table border=\"1\" class=\"dataframe\">\n",
              "  <thead>\n",
              "    <tr style=\"text-align: right;\">\n",
              "      <th></th>\n",
              "      <th>Survived</th>\n",
              "      <th>Pclass</th>\n",
              "      <th>Name</th>\n",
              "      <th>Sex</th>\n",
              "      <th>Age</th>\n",
              "      <th>SibSp</th>\n",
              "      <th>Parch</th>\n",
              "      <th>Ticket</th>\n",
              "      <th>Fare</th>\n",
              "      <th>Cabin</th>\n",
              "      <th>Embarked</th>\n",
              "    </tr>\n",
              "    <tr>\n",
              "      <th>PassengerId</th>\n",
              "      <th></th>\n",
              "      <th></th>\n",
              "      <th></th>\n",
              "      <th></th>\n",
              "      <th></th>\n",
              "      <th></th>\n",
              "      <th></th>\n",
              "      <th></th>\n",
              "      <th></th>\n",
              "      <th></th>\n",
              "      <th></th>\n",
              "    </tr>\n",
              "  </thead>\n",
              "  <tbody>\n",
              "    <tr>\n",
              "      <th>1</th>\n",
              "      <td>0</td>\n",
              "      <td>3</td>\n",
              "      <td>Braund, Mr. Owen Harris</td>\n",
              "      <td>male</td>\n",
              "      <td>22.0</td>\n",
              "      <td>1</td>\n",
              "      <td>0</td>\n",
              "      <td>A/5 21171</td>\n",
              "      <td>7.2500</td>\n",
              "      <td>NaN</td>\n",
              "      <td>S</td>\n",
              "    </tr>\n",
              "    <tr>\n",
              "      <th>2</th>\n",
              "      <td>1</td>\n",
              "      <td>1</td>\n",
              "      <td>Cumings, Mrs. John Bradley (Florence Briggs Th...</td>\n",
              "      <td>female</td>\n",
              "      <td>38.0</td>\n",
              "      <td>1</td>\n",
              "      <td>0</td>\n",
              "      <td>PC 17599</td>\n",
              "      <td>71.2833</td>\n",
              "      <td>C85</td>\n",
              "      <td>C</td>\n",
              "    </tr>\n",
              "    <tr>\n",
              "      <th>3</th>\n",
              "      <td>1</td>\n",
              "      <td>3</td>\n",
              "      <td>Heikkinen, Miss. Laina</td>\n",
              "      <td>female</td>\n",
              "      <td>26.0</td>\n",
              "      <td>0</td>\n",
              "      <td>0</td>\n",
              "      <td>STON/O2. 3101282</td>\n",
              "      <td>7.9250</td>\n",
              "      <td>NaN</td>\n",
              "      <td>S</td>\n",
              "    </tr>\n",
              "    <tr>\n",
              "      <th>4</th>\n",
              "      <td>1</td>\n",
              "      <td>1</td>\n",
              "      <td>Futrelle, Mrs. Jacques Heath (Lily May Peel)</td>\n",
              "      <td>female</td>\n",
              "      <td>35.0</td>\n",
              "      <td>1</td>\n",
              "      <td>0</td>\n",
              "      <td>113803</td>\n",
              "      <td>53.1000</td>\n",
              "      <td>C123</td>\n",
              "      <td>S</td>\n",
              "    </tr>\n",
              "    <tr>\n",
              "      <th>5</th>\n",
              "      <td>0</td>\n",
              "      <td>3</td>\n",
              "      <td>Allen, Mr. William Henry</td>\n",
              "      <td>male</td>\n",
              "      <td>35.0</td>\n",
              "      <td>0</td>\n",
              "      <td>0</td>\n",
              "      <td>373450</td>\n",
              "      <td>8.0500</td>\n",
              "      <td>NaN</td>\n",
              "      <td>S</td>\n",
              "    </tr>\n",
              "    <tr>\n",
              "      <th>...</th>\n",
              "      <td>...</td>\n",
              "      <td>...</td>\n",
              "      <td>...</td>\n",
              "      <td>...</td>\n",
              "      <td>...</td>\n",
              "      <td>...</td>\n",
              "      <td>...</td>\n",
              "      <td>...</td>\n",
              "      <td>...</td>\n",
              "      <td>...</td>\n",
              "      <td>...</td>\n",
              "    </tr>\n",
              "    <tr>\n",
              "      <th>887</th>\n",
              "      <td>0</td>\n",
              "      <td>2</td>\n",
              "      <td>Montvila, Rev. Juozas</td>\n",
              "      <td>male</td>\n",
              "      <td>27.0</td>\n",
              "      <td>0</td>\n",
              "      <td>0</td>\n",
              "      <td>211536</td>\n",
              "      <td>13.0000</td>\n",
              "      <td>NaN</td>\n",
              "      <td>S</td>\n",
              "    </tr>\n",
              "    <tr>\n",
              "      <th>888</th>\n",
              "      <td>1</td>\n",
              "      <td>1</td>\n",
              "      <td>Graham, Miss. Margaret Edith</td>\n",
              "      <td>female</td>\n",
              "      <td>19.0</td>\n",
              "      <td>0</td>\n",
              "      <td>0</td>\n",
              "      <td>112053</td>\n",
              "      <td>30.0000</td>\n",
              "      <td>B42</td>\n",
              "      <td>S</td>\n",
              "    </tr>\n",
              "    <tr>\n",
              "      <th>889</th>\n",
              "      <td>0</td>\n",
              "      <td>3</td>\n",
              "      <td>Johnston, Miss. Catherine Helen \"Carrie\"</td>\n",
              "      <td>female</td>\n",
              "      <td>NaN</td>\n",
              "      <td>1</td>\n",
              "      <td>2</td>\n",
              "      <td>W./C. 6607</td>\n",
              "      <td>23.4500</td>\n",
              "      <td>NaN</td>\n",
              "      <td>S</td>\n",
              "    </tr>\n",
              "    <tr>\n",
              "      <th>890</th>\n",
              "      <td>1</td>\n",
              "      <td>1</td>\n",
              "      <td>Behr, Mr. Karl Howell</td>\n",
              "      <td>male</td>\n",
              "      <td>26.0</td>\n",
              "      <td>0</td>\n",
              "      <td>0</td>\n",
              "      <td>111369</td>\n",
              "      <td>30.0000</td>\n",
              "      <td>C148</td>\n",
              "      <td>C</td>\n",
              "    </tr>\n",
              "    <tr>\n",
              "      <th>891</th>\n",
              "      <td>0</td>\n",
              "      <td>3</td>\n",
              "      <td>Dooley, Mr. Patrick</td>\n",
              "      <td>male</td>\n",
              "      <td>32.0</td>\n",
              "      <td>0</td>\n",
              "      <td>0</td>\n",
              "      <td>370376</td>\n",
              "      <td>7.7500</td>\n",
              "      <td>NaN</td>\n",
              "      <td>Q</td>\n",
              "    </tr>\n",
              "  </tbody>\n",
              "</table>\n",
              "<p>891 rows × 11 columns</p>\n",
              "</div>"
            ],
            "text/plain": [
              "             Survived  Pclass  ... Cabin Embarked\n",
              "PassengerId                    ...               \n",
              "1                   0       3  ...   NaN        S\n",
              "2                   1       1  ...   C85        C\n",
              "3                   1       3  ...   NaN        S\n",
              "4                   1       1  ...  C123        S\n",
              "5                   0       3  ...   NaN        S\n",
              "...               ...     ...  ...   ...      ...\n",
              "887                 0       2  ...   NaN        S\n",
              "888                 1       1  ...   B42        S\n",
              "889                 0       3  ...   NaN        S\n",
              "890                 1       1  ...  C148        C\n",
              "891                 0       3  ...   NaN        Q\n",
              "\n",
              "[891 rows x 11 columns]"
            ]
          },
          "metadata": {
            "tags": []
          },
          "execution_count": 8
        }
      ]
    },
    {
      "cell_type": "code",
      "metadata": {
        "id": "wl1Um8S5jc1D",
        "colab_type": "code",
        "colab": {
          "base_uri": "https://localhost:8080/",
          "height": 460
        },
        "outputId": "fcc1f27a-5b15-4c2e-a508-f75360e96feb"
      },
      "source": [
        "plt.figure(figsize=(10,7))\n",
        "sns.boxplot(x='Pclass',y='Age',data=df)"
      ],
      "execution_count": 11,
      "outputs": [
        {
          "output_type": "execute_result",
          "data": {
            "text/plain": [
              "<matplotlib.axes._subplots.AxesSubplot at 0x7f6bfc217a90>"
            ]
          },
          "metadata": {
            "tags": []
          },
          "execution_count": 11
        },
        {
          "output_type": "display_data",
          "data": {
            "image/png": "[encoded data removed]",
            "text/plain": [
              "<Figure size 720x504 with 1 Axes>"
            ]
          },
          "metadata": {
            "tags": [],
            "needs_background": "light"
          }
        }
      ]
    },
    {
      "cell_type": "code",
      "metadata": {
        "id": "zUwoTmvWjuU0",
        "colab_type": "code",
        "colab": {
          "base_uri": "https://localhost:8080/",
          "height": 35
        },
        "outputId": "1a4c25d9-82ea-4938-c43e-667f91e22fa5"
      },
      "source": [
        "class_1 = df[df['Pclass'] == 1]\n",
        "class_1['Age'].mean()"
      ],
      "execution_count": 12,
      "outputs": [
        {
          "output_type": "execute_result",
          "data": {
            "text/plain": [
              "38.233440860215055"
            ]
          },
          "metadata": {
            "tags": []
          },
          "execution_count": 12
        }
      ]
    },
    {
      "cell_type": "code",
      "metadata": {
        "id": "jppKsALojxEz",
        "colab_type": "code",
        "colab": {
          "base_uri": "https://localhost:8080/",
          "height": 35
        },
        "outputId": "fea6f5fc-7bf4-46ee-93fd-606fca93d659"
      },
      "source": [
        "class_2 = df[df['Pclass'] == 2]\n",
        "class_2['Age'].mean()"
      ],
      "execution_count": 13,
      "outputs": [
        {
          "output_type": "execute_result",
          "data": {
            "text/plain": [
              "29.87763005780347"
            ]
          },
          "metadata": {
            "tags": []
          },
          "execution_count": 13
        }
      ]
    },
    {
      "cell_type": "code",
      "metadata": {
        "id": "KWhE9ox_j1Aj",
        "colab_type": "code",
        "colab": {
          "base_uri": "https://localhost:8080/",
          "height": 35
        },
        "outputId": "8203f08a-a447-4f47-e7ed-10ccac9f8d63"
      },
      "source": [
        "class_3 = df[df['Pclass'] == 3]\n",
        "class_3['Age'].mean()"
      ],
      "execution_count": 14,
      "outputs": [
        {
          "output_type": "execute_result",
          "data": {
            "text/plain": [
              "25.14061971830986"
            ]
          },
          "metadata": {
            "tags": []
          },
          "execution_count": 14
        }
      ]
    },
    {
      "cell_type": "code",
      "metadata": {
        "id": "nWVceAtcj6-D",
        "colab_type": "code",
        "colab": {}
      },
      "source": [
        "def impute_age(cols):\n",
        "  Age = cols[0]\n",
        "  Pclass = cols[1]\n",
        "\n",
        "  if pd.isnull(Age):\n",
        "\n",
        "    if Pclass == 1:\n",
        "      return 38\n",
        "    elif Pclass == 2:\n",
        "      return 30\n",
        "    else:\n",
        "      return 25\n",
        "  else:\n",
        "    return Age"
      ],
      "execution_count": 15,
      "outputs": []
    },
    {
      "cell_type": "code",
      "metadata": {
        "id": "Am6L9n8zj9AI",
        "colab_type": "code",
        "colab": {}
      },
      "source": [
        "df['Age'] = df[['Age','Pclass']].apply(impute_age,axis=1)"
      ],
      "execution_count": 16,
      "outputs": []
    },
    {
      "cell_type": "code",
      "metadata": {
        "id": "8FdQi1m3kCDe",
        "colab_type": "code",
        "colab": {
          "base_uri": "https://localhost:8080/",
          "height": 324
        },
        "outputId": "76513f6a-735e-49d9-e404-f5b0084bdf39"
      },
      "source": [
        "sns.heatmap(df.isnull(),yticklabels=False,cbar=False,cmap='viridis')"
      ],
      "execution_count": 18,
      "outputs": [
        {
          "output_type": "execute_result",
          "data": {
            "text/plain": [
              "<matplotlib.axes._subplots.AxesSubplot at 0x7f6bfbc849e8>"
            ]
          },
          "metadata": {
            "tags": []
          },
          "execution_count": 18
        },
        {
          "output_type": "display_data",
          "data": {
            "image/png": "[encoded data removed]",
            "text/plain": [
              "<Figure size 432x288 with 1 Axes>"
            ]
          },
          "metadata": {
            "tags": [],
            "needs_background": "light"
          }
        }
      ]
    },
    {
      "cell_type": "code",
      "metadata": {
        "id": "JabQYMNkkXns",
        "colab_type": "code",
        "colab": {}
      },
      "source": [
        "df.drop('Cabin',axis=1,inplace=True)"
      ],
      "execution_count": 19,
      "outputs": []
    },
    {
      "cell_type": "code",
      "metadata": {
        "id": "s3-VuMZrkg-v",
        "colab_type": "code",
        "colab": {
          "base_uri": "https://localhost:8080/",
          "height": 324
        },
        "outputId": "df3fdd3f-9236-4831-e6c5-f16da22cb0bc"
      },
      "source": [
        "sns.heatmap(df.isnull(),yticklabels=False,cbar=False,cmap='viridis')"
      ],
      "execution_count": 20,
      "outputs": [
        {
          "output_type": "execute_result",
          "data": {
            "text/plain": [
              "<matplotlib.axes._subplots.AxesSubplot at 0x7f6bf819c668>"
            ]
          },
          "metadata": {
            "tags": []
          },
          "execution_count": 20
        },
        {
          "output_type": "display_data",
          "data": {
            "image/png": "[encoded data removed]",
            "text/plain": [
              "<Figure size 432x288 with 1 Axes>"
            ]
          },
          "metadata": {
            "tags": [],
            "needs_background": "light"
          }
        }
      ]
    },
    {
      "cell_type": "code",
      "metadata": {
        "id": "9mcspEzYkddl",
        "colab_type": "code",
        "colab": {}
      },
      "source": [
        "df.dropna(inplace=True)"
      ],
      "execution_count": 21,
      "outputs": []
    },
    {
      "cell_type": "code",
      "metadata": {
        "id": "QGGuQHzjkjPw",
        "colab_type": "code",
        "colab": {
          "base_uri": "https://localhost:8080/",
          "height": 324
        },
        "outputId": "157b028c-0442-4a69-f5e9-976a30aa67d0"
      },
      "source": [
        "sns.heatmap(df.isnull(),yticklabels=False,cbar=False,cmap='viridis')"
      ],
      "execution_count": 22,
      "outputs": [
        {
          "output_type": "execute_result",
          "data": {
            "text/plain": [
              "<matplotlib.axes._subplots.AxesSubplot at 0x7f6bf7f56898>"
            ]
          },
          "metadata": {
            "tags": []
          },
          "execution_count": 22
        },
        {
          "output_type": "display_data",
          "data": {
            "image/png": "[encoded data removed]",
            "text/plain": [
              "<Figure size 432x288 with 1 Axes>"
            ]
          },
          "metadata": {
            "tags": [],
            "needs_background": "light"
          }
        }
      ]
    },
    {
      "cell_type": "code",
      "metadata": {
        "id": "74t7CM5FktoH",
        "colab_type": "code",
        "colab": {
          "base_uri": "https://localhost:8080/",
          "height": 72
        },
        "outputId": "8fd22873-b435-446d-ebe5-420e867de4e4"
      },
      "source": [
        "df.columns"
      ],
      "execution_count": 23,
      "outputs": [
        {
          "output_type": "execute_result",
          "data": {
            "text/plain": [
              "Index(['Survived', 'Pclass', 'Name', 'Sex', 'Age', 'SibSp', 'Parch', 'Ticket',\n",
              "       'Fare', 'Embarked'],\n",
              "      dtype='object')"
            ]
          },
          "metadata": {
            "tags": []
          },
          "execution_count": 23
        }
      ]
    },
    {
      "cell_type": "markdown",
      "metadata": {
        "id": "cPn0G_7wk5UL",
        "colab_type": "text"
      },
      "source": [
        "Data seperation categorial and continous"
      ]
    },
    {
      "cell_type": "code",
      "metadata": {
        "id": "K373WGIqbT3G",
        "colab_type": "code",
        "colab": {}
      },
      "source": [
        "cat_cols = ['Sex','Embarked','Pclass']\n",
        "cont_cols = ['Age','SibSp','Parch','Fare']\n",
        "y_col = ['Survived']"
      ],
      "execution_count": 24,
      "outputs": []
    },
    {
      "cell_type": "code",
      "metadata": {
        "id": "KPJN4XXBbnbW",
        "colab_type": "code",
        "colab": {}
      },
      "source": [
        "for cat in cat_cols:\n",
        "    df[cat] = df[cat].astype('category')"
      ],
      "execution_count": 25,
      "outputs": []
    },
    {
      "cell_type": "code",
      "metadata": {
        "id": "JQ-PtUBQcDTH",
        "colab_type": "code",
        "colab": {}
      },
      "source": [
        "Sx = df['Sex'].cat.codes.values\n",
        "Em = df['Embarked'].cat.codes.values\n",
        "Pc = df['Pclass'].cat.codes.values\n",
        "\n",
        "cats = np.stack([Sx,Em,Pc], 1)\n",
        "cats = torch.LongTensor(cats)"
      ],
      "execution_count": 26,
      "outputs": []
    },
    {
      "cell_type": "code",
      "metadata": {
        "id": "ZvQdA_kEcL1V",
        "colab_type": "code",
        "colab": {
          "base_uri": "https://localhost:8080/",
          "height": 146
        },
        "outputId": "b74b715b-ffb7-430b-a88f-cef3c026d2a2"
      },
      "source": [
        "cats"
      ],
      "execution_count": 27,
      "outputs": [
        {
          "output_type": "execute_result",
          "data": {
            "text/plain": [
              "tensor([[1, 2, 2],\n",
              "        [0, 0, 0],\n",
              "        [0, 2, 2],\n",
              "        ...,\n",
              "        [0, 2, 2],\n",
              "        [1, 0, 0],\n",
              "        [1, 1, 2]])"
            ]
          },
          "metadata": {
            "tags": []
          },
          "execution_count": 27
        }
      ]
    },
    {
      "cell_type": "code",
      "metadata": {
        "id": "r3CGP4_ycMuP",
        "colab_type": "code",
        "colab": {
          "base_uri": "https://localhost:8080/",
          "height": 109
        },
        "outputId": "a421bab1-f502-431b-9881-33b9633bd685"
      },
      "source": [
        "conts = np.stack([df[col].values for col in cont_cols], 1)\n",
        "conts = torch.FloatTensor(conts)\n",
        "conts[:5]"
      ],
      "execution_count": 28,
      "outputs": [
        {
          "output_type": "execute_result",
          "data": {
            "text/plain": [
              "tensor([[22.0000,  1.0000,  0.0000,  7.2500],\n",
              "        [38.0000,  1.0000,  0.0000, 71.2833],\n",
              "        [26.0000,  0.0000,  0.0000,  7.9250],\n",
              "        [35.0000,  1.0000,  0.0000, 53.1000],\n",
              "        [35.0000,  0.0000,  0.0000,  8.0500]])"
            ]
          },
          "metadata": {
            "tags": []
          },
          "execution_count": 28
        }
      ]
    },
    {
      "cell_type": "code",
      "metadata": {
        "id": "YF3bd0--crIU",
        "colab_type": "code",
        "colab": {
          "base_uri": "https://localhost:8080/",
          "height": 35
        },
        "outputId": "e60eb7f5-1e34-4d93-cf52-523e590b3b25"
      },
      "source": [
        "y = torch.tensor(df[y_col].values).flatten()\n",
        "\n",
        "y[:5]"
      ],
      "execution_count": 29,
      "outputs": [
        {
          "output_type": "execute_result",
          "data": {
            "text/plain": [
              "tensor([0, 1, 1, 1, 0])"
            ]
          },
          "metadata": {
            "tags": []
          },
          "execution_count": 29
        }
      ]
    },
    {
      "cell_type": "markdown",
      "metadata": {
        "id": "6EifCWytk9PC",
        "colab_type": "text"
      },
      "source": [
        "Data preperation for embedding"
      ]
    },
    {
      "cell_type": "code",
      "metadata": {
        "id": "SjaAu1DHc7-h",
        "colab_type": "code",
        "colab": {
          "base_uri": "https://localhost:8080/",
          "height": 35
        },
        "outputId": "0dc94b5b-8a59-49e0-effe-f2aafc3367b7"
      },
      "source": [
        "# This will set embedding sizes for Hours, AMvsPM and Weekdays\n",
        "cat_szs = [len(df[col].cat.categories) for col in cat_cols]\n",
        "emb_szs = [(size, min(50, (size+1)//2)) for size in cat_szs]\n",
        "emb_szs"
      ],
      "execution_count": 30,
      "outputs": [
        {
          "output_type": "execute_result",
          "data": {
            "text/plain": [
              "[(2, 1), (3, 2), (3, 2)]"
            ]
          },
          "metadata": {
            "tags": []
          },
          "execution_count": 30
        }
      ]
    },
    {
      "cell_type": "code",
      "metadata": {
        "id": "1t5vKTpWzZxy",
        "colab_type": "code",
        "colab": {
          "base_uri": "https://localhost:8080/",
          "height": 35
        },
        "outputId": "8bc81f32-cbbd-4e56-f1c4-17f088dff720"
      },
      "source": [
        "cat_szs "
      ],
      "execution_count": 31,
      "outputs": [
        {
          "output_type": "execute_result",
          "data": {
            "text/plain": [
              "[2, 3, 3]"
            ]
          },
          "metadata": {
            "tags": []
          },
          "execution_count": 31
        }
      ]
    },
    {
      "cell_type": "markdown",
      "metadata": {
        "id": "aAUkN19kk_8k",
        "colab_type": "text"
      },
      "source": [
        "Neural Network"
      ]
    },
    {
      "cell_type": "code",
      "metadata": {
        "id": "ML-rvTrtdI1-",
        "colab_type": "code",
        "colab": {}
      },
      "source": [
        "class TabularModel(nn.Module):\n",
        "\n",
        "    def __init__(self, emb_szs, n_cont, out_sz, layers, p=0.4):\n",
        "        super().__init__()\n",
        "        self.embeds = nn.ModuleList([nn.Embedding(ni, nf) for ni,nf in emb_szs])\n",
        "        self.emb_drop = nn.Dropout(p)\n",
        "        self.bn_cont = nn.BatchNorm1d(n_cont)\n",
        "        \n",
        "        layerlist = []\n",
        "        n_emb = sum((nf for ni,nf in emb_szs))\n",
        "        n_in = n_emb + n_cont\n",
        "        \n",
        "        for i in layers:\n",
        "            layerlist.append(nn.Linear(n_in,i)) \n",
        "            layerlist.append(nn.ReLU(inplace=True))\n",
        "            layerlist.append(nn.BatchNorm1d(i))\n",
        "            layerlist.append(nn.Dropout(p))\n",
        "            n_in = i\n",
        "        layerlist.append(nn.Linear(layers[-1],out_sz))\n",
        "            \n",
        "        self.layers = nn.Sequential(*layerlist)\n",
        "    \n",
        "    def forward(self, x_cat, x_cont):\n",
        "        embeddings = []\n",
        "        for i,e in enumerate(self.embeds):\n",
        "            embeddings.append(e(x_cat[:,i]))\n",
        "            \n",
        "        x = torch.cat(embeddings, 1)\n",
        "        x = self.emb_drop(x)\n",
        "        \n",
        "        x_cont = self.bn_cont(x_cont)\n",
        "        x = torch.cat([x, x_cont], 1)\n",
        "        x = self.layers(x)\n",
        "        return x"
      ],
      "execution_count": 32,
      "outputs": []
    },
    {
      "cell_type": "code",
      "metadata": {
        "id": "fjW2P7hhdUlv",
        "colab_type": "code",
        "colab": {}
      },
      "source": [
        "model = TabularModel(emb_szs, conts.shape[1], 2, [200,100], p=0.4) # out_sz = 2"
      ],
      "execution_count": 33,
      "outputs": []
    },
    {
      "cell_type": "markdown",
      "metadata": {
        "id": "9NF3x7OulCMo",
        "colab_type": "text"
      },
      "source": [
        "Model summary"
      ]
    },
    {
      "cell_type": "code",
      "metadata": {
        "id": "wrg5SuKpd879",
        "colab_type": "code",
        "colab": {
          "base_uri": "https://localhost:8080/",
          "height": 384
        },
        "outputId": "383ddcbb-fd93-4ce2-ce85-4bd1a02cde13"
      },
      "source": [
        "model"
      ],
      "execution_count": 34,
      "outputs": [
        {
          "output_type": "execute_result",
          "data": {
            "text/plain": [
              "TabularModel(\n",
              "  (embeds): ModuleList(\n",
              "    (0): Embedding(2, 1)\n",
              "    (1): Embedding(3, 2)\n",
              "    (2): Embedding(3, 2)\n",
              "  )\n",
              "  (emb_drop): Dropout(p=0.4, inplace=False)\n",
              "  (bn_cont): BatchNorm1d(4, eps=1e-05, momentum=0.1, affine=True, track_running_stats=True)\n",
              "  (layers): Sequential(\n",
              "    (0): Linear(in_features=9, out_features=200, bias=True)\n",
              "    (1): ReLU(inplace=True)\n",
              "    (2): BatchNorm1d(200, eps=1e-05, momentum=0.1, affine=True, track_running_stats=True)\n",
              "    (3): Dropout(p=0.4, inplace=False)\n",
              "    (4): Linear(in_features=200, out_features=100, bias=True)\n",
              "    (5): ReLU(inplace=True)\n",
              "    (6): BatchNorm1d(100, eps=1e-05, momentum=0.1, affine=True, track_running_stats=True)\n",
              "    (7): Dropout(p=0.4, inplace=False)\n",
              "    (8): Linear(in_features=100, out_features=2, bias=True)\n",
              "  )\n",
              ")"
            ]
          },
          "metadata": {
            "tags": []
          },
          "execution_count": 34
        }
      ]
    },
    {
      "cell_type": "markdown",
      "metadata": {
        "id": "I9RsCxV_lFSp",
        "colab_type": "text"
      },
      "source": [
        "Cost function and optimization"
      ]
    },
    {
      "cell_type": "code",
      "metadata": {
        "id": "S2cJj5mGd9f2",
        "colab_type": "code",
        "colab": {}
      },
      "source": [
        "criterion = nn.CrossEntropyLoss() #CrossEntropyLoss performs better for classification tasks\n",
        "optimizer = torch.optim.Adam(model.parameters(), lr=0.001)"
      ],
      "execution_count": 35,
      "outputs": []
    },
    {
      "cell_type": "code",
      "metadata": {
        "id": "39hZm1hVeVnL",
        "colab_type": "code",
        "colab": {}
      },
      "source": [
        "cat_train = cats\n",
        "con_train = conts\n",
        "y_train = y"
      ],
      "execution_count": 36,
      "outputs": []
    },
    {
      "cell_type": "markdown",
      "metadata": {
        "id": "zs84YygHlHY5",
        "colab_type": "text"
      },
      "source": [
        "Training"
      ]
    },
    {
      "cell_type": "code",
      "metadata": {
        "id": "GWAoYUjKeMl3",
        "colab_type": "code",
        "colab": {
          "base_uri": "https://localhost:8080/",
          "height": 1000
        },
        "outputId": "2b38c582-a755-48e0-e326-353d2a1bdd97"
      },
      "source": [
        "import time\n",
        "start_time = time.time()\n",
        "\n",
        "epochs = 3000\n",
        "losses = []\n",
        "\n",
        "for i in range(epochs):\n",
        "    i+=1\n",
        "    y_pred = model(cat_train, con_train)\n",
        "    loss = criterion(y_pred, y_train)\n",
        "    losses.append(loss)\n",
        "  \n",
        "    # a neat trick to save screen space:\n",
        "    if i%10 == 1:\n",
        "        print('Epoch: {} and Loss: {:8.4f}'.format(i,loss))\n",
        "\n",
        "    optimizer.zero_grad()\n",
        "    loss.backward()\n",
        "    optimizer.step()\n",
        "\n",
        "print(f'epoch: {i:3}  loss: {loss.item():10.8f}') # print the last line\n",
        "print(f'\\nDuration: {time.time() - start_time:.0f} seconds') # print the time elapsed"
      ],
      "execution_count": 37,
      "outputs": [
        {
          "output_type": "stream",
          "text": [
            "Epoch: 1 and Loss:   0.7283\n",
            "Epoch: 11 and Loss:   0.5469\n",
            "Epoch: 21 and Loss:   0.5235\n",
            "Epoch: 31 and Loss:   0.5312\n",
            "Epoch: 41 and Loss:   0.5242\n",
            "Epoch: 51 and Loss:   0.5035\n",
            "Epoch: 61 and Loss:   0.5008\n",
            "Epoch: 71 and Loss:   0.4951\n",
            "Epoch: 81 and Loss:   0.4980\n",
            "Epoch: 91 and Loss:   0.4795\n",
            "Epoch: 101 and Loss:   0.4897\n",
            "Epoch: 111 and Loss:   0.4644\n",
            "Epoch: 121 and Loss:   0.4803\n",
            "Epoch: 131 and Loss:   0.4655\n",
            "Epoch: 141 and Loss:   0.4785\n",
            "Epoch: 151 and Loss:   0.4861\n",
            "Epoch: 161 and Loss:   0.4678\n",
            "Epoch: 171 and Loss:   0.4594\n",
            "Epoch: 181 and Loss:   0.4496\n",
            "Epoch: 191 and Loss:   0.4641\n",
            "Epoch: 201 and Loss:   0.4526\n",
            "Epoch: 211 and Loss:   0.4581\n",
            "Epoch: 221 and Loss:   0.4434\n",
            "Epoch: 231 and Loss:   0.4778\n",
            "Epoch: 241 and Loss:   0.4691\n",
            "Epoch: 251 and Loss:   0.4561\n",
            "Epoch: 261 and Loss:   0.4476\n",
            "Epoch: 271 and Loss:   0.4560\n",
            "Epoch: 281 and Loss:   0.4566\n",
            "Epoch: 291 and Loss:   0.4572\n",
            "Epoch: 301 and Loss:   0.4543\n",
            "Epoch: 311 and Loss:   0.4564\n",
            "Epoch: 321 and Loss:   0.4744\n",
            "Epoch: 331 and Loss:   0.4430\n",
            "Epoch: 341 and Loss:   0.4560\n",
            "Epoch: 351 and Loss:   0.4645\n",
            "Epoch: 361 and Loss:   0.4626\n",
            "Epoch: 371 and Loss:   0.4498\n",
            "Epoch: 381 and Loss:   0.4490\n",
            "Epoch: 391 and Loss:   0.4470\n",
            "Epoch: 401 and Loss:   0.4479\n",
            "Epoch: 411 and Loss:   0.4578\n",
            "Epoch: 421 and Loss:   0.4497\n",
            "Epoch: 431 and Loss:   0.4438\n",
            "Epoch: 441 and Loss:   0.4692\n",
            "Epoch: 451 and Loss:   0.4589\n",
            "Epoch: 461 and Loss:   0.4514\n",
            "Epoch: 471 and Loss:   0.4421\n",
            "Epoch: 481 and Loss:   0.4525\n",
            "Epoch: 491 and Loss:   0.4464\n",
            "Epoch: 501 and Loss:   0.4481\n",
            "Epoch: 511 and Loss:   0.4356\n",
            "Epoch: 521 and Loss:   0.4497\n",
            "Epoch: 531 and Loss:   0.4371\n",
            "Epoch: 541 and Loss:   0.4397\n",
            "Epoch: 551 and Loss:   0.4501\n",
            "Epoch: 561 and Loss:   0.4393\n",
            "Epoch: 571 and Loss:   0.4351\n",
            "Epoch: 581 and Loss:   0.4561\n",
            "Epoch: 591 and Loss:   0.4545\n",
            "Epoch: 601 and Loss:   0.4284\n",
            "Epoch: 611 and Loss:   0.4373\n",
            "Epoch: 621 and Loss:   0.4348\n",
            "Epoch: 631 and Loss:   0.4532\n",
            "Epoch: 641 and Loss:   0.4347\n",
            "Epoch: 651 and Loss:   0.4274\n",
            "Epoch: 661 and Loss:   0.4419\n",
            "Epoch: 671 and Loss:   0.4371\n",
            "Epoch: 681 and Loss:   0.4551\n",
            "Epoch: 691 and Loss:   0.4340\n",
            "Epoch: 701 and Loss:   0.4335\n",
            "Epoch: 711 and Loss:   0.4468\n",
            "Epoch: 721 and Loss:   0.4407\n",
            "Epoch: 731 and Loss:   0.4347\n",
            "Epoch: 741 and Loss:   0.4507\n",
            "Epoch: 751 and Loss:   0.4312\n",
            "Epoch: 761 and Loss:   0.4432\n",
            "Epoch: 771 and Loss:   0.4270\n",
            "Epoch: 781 and Loss:   0.4230\n",
            "Epoch: 791 and Loss:   0.4416\n",
            "Epoch: 801 and Loss:   0.4340\n",
            "Epoch: 811 and Loss:   0.4191\n",
            "Epoch: 821 and Loss:   0.4525\n",
            "Epoch: 831 and Loss:   0.4196\n",
            "Epoch: 841 and Loss:   0.4356\n",
            "Epoch: 851 and Loss:   0.4299\n",
            "Epoch: 861 and Loss:   0.4445\n",
            "Epoch: 871 and Loss:   0.4347\n",
            "Epoch: 881 and Loss:   0.4418\n",
            "Epoch: 891 and Loss:   0.4306\n",
            "Epoch: 901 and Loss:   0.4431\n",
            "Epoch: 911 and Loss:   0.4383\n",
            "Epoch: 921 and Loss:   0.4365\n",
            "Epoch: 931 and Loss:   0.4318\n",
            "Epoch: 941 and Loss:   0.4201\n",
            "Epoch: 951 and Loss:   0.4162\n",
            "Epoch: 961 and Loss:   0.4307\n",
            "Epoch: 971 and Loss:   0.4529\n",
            "Epoch: 981 and Loss:   0.4223\n",
            "Epoch: 991 and Loss:   0.4263\n",
            "Epoch: 1001 and Loss:   0.4113\n",
            "Epoch: 1011 and Loss:   0.4262\n",
            "Epoch: 1021 and Loss:   0.3824\n",
            "Epoch: 1031 and Loss:   0.4050\n",
            "Epoch: 1041 and Loss:   0.4186\n",
            "Epoch: 1051 and Loss:   0.4207\n",
            "Epoch: 1061 and Loss:   0.4274\n",
            "Epoch: 1071 and Loss:   0.4169\n",
            "Epoch: 1081 and Loss:   0.4195\n",
            "Epoch: 1091 and Loss:   0.4083\n",
            "Epoch: 1101 and Loss:   0.4204\n",
            "Epoch: 1111 and Loss:   0.4236\n",
            "Epoch: 1121 and Loss:   0.4283\n",
            "Epoch: 1131 and Loss:   0.4278\n",
            "Epoch: 1141 and Loss:   0.4045\n",
            "Epoch: 1151 and Loss:   0.3925\n",
            "Epoch: 1161 and Loss:   0.4212\n",
            "Epoch: 1171 and Loss:   0.4230\n",
            "Epoch: 1181 and Loss:   0.4137\n",
            "Epoch: 1191 and Loss:   0.4112\n",
            "Epoch: 1201 and Loss:   0.4134\n",
            "Epoch: 1211 and Loss:   0.4081\n",
            "Epoch: 1221 and Loss:   0.4398\n",
            "Epoch: 1231 and Loss:   0.4150\n",
            "Epoch: 1241 and Loss:   0.3981\n",
            "Epoch: 1251 and Loss:   0.4042\n",
            "Epoch: 1261 and Loss:   0.3874\n",
            "Epoch: 1271 and Loss:   0.4163\n",
            "Epoch: 1281 and Loss:   0.3945\n",
            "Epoch: 1291 and Loss:   0.4138\n",
            "Epoch: 1301 and Loss:   0.3936\n",
            "Epoch: 1311 and Loss:   0.4154\n",
            "Epoch: 1321 and Loss:   0.4123\n",
            "Epoch: 1331 and Loss:   0.3941\n",
            "Epoch: 1341 and Loss:   0.4298\n",
            "Epoch: 1351 and Loss:   0.3966\n",
            "Epoch: 1361 and Loss:   0.4179\n",
            "Epoch: 1371 and Loss:   0.3968\n",
            "Epoch: 1381 and Loss:   0.4165\n",
            "Epoch: 1391 and Loss:   0.4007\n",
            "Epoch: 1401 and Loss:   0.4056\n",
            "Epoch: 1411 and Loss:   0.3973\n",
            "Epoch: 1421 and Loss:   0.4019\n",
            "Epoch: 1431 and Loss:   0.4063\n",
            "Epoch: 1441 and Loss:   0.4074\n",
            "Epoch: 1451 and Loss:   0.4037\n",
            "Epoch: 1461 and Loss:   0.3866\n",
            "Epoch: 1471 and Loss:   0.4183\n",
            "Epoch: 1481 and Loss:   0.3878\n",
            "Epoch: 1491 and Loss:   0.4052\n",
            "Epoch: 1501 and Loss:   0.4073\n",
            "Epoch: 1511 and Loss:   0.3930\n",
            "Epoch: 1521 and Loss:   0.4008\n",
            "Epoch: 1531 and Loss:   0.3993\n",
            "Epoch: 1541 and Loss:   0.3968\n",
            "Epoch: 1551 and Loss:   0.3973\n",
            "Epoch: 1561 and Loss:   0.3986\n",
            "Epoch: 1571 and Loss:   0.4018\n",
            "Epoch: 1581 and Loss:   0.4128\n",
            "Epoch: 1591 and Loss:   0.3794\n",
            "Epoch: 1601 and Loss:   0.3874\n",
            "Epoch: 1611 and Loss:   0.4024\n",
            "Epoch: 1621 and Loss:   0.4022\n",
            "Epoch: 1631 and Loss:   0.4325\n",
            "Epoch: 1641 and Loss:   0.3759\n",
            "Epoch: 1651 and Loss:   0.3921\n",
            "Epoch: 1661 and Loss:   0.3969\n",
            "Epoch: 1671 and Loss:   0.4021\n",
            "Epoch: 1681 and Loss:   0.4058\n",
            "Epoch: 1691 and Loss:   0.4082\n",
            "Epoch: 1701 and Loss:   0.3894\n",
            "Epoch: 1711 and Loss:   0.4033\n",
            "Epoch: 1721 and Loss:   0.4063\n",
            "Epoch: 1731 and Loss:   0.3948\n",
            "Epoch: 1741 and Loss:   0.4040\n",
            "Epoch: 1751 and Loss:   0.3904\n",
            "Epoch: 1761 and Loss:   0.3939\n",
            "Epoch: 1771 and Loss:   0.3843\n",
            "Epoch: 1781 and Loss:   0.3754\n",
            "Epoch: 1791 and Loss:   0.4045\n",
            "Epoch: 1801 and Loss:   0.3847\n",
            "Epoch: 1811 and Loss:   0.4076\n",
            "Epoch: 1821 and Loss:   0.4006\n",
            "Epoch: 1831 and Loss:   0.3959\n",
            "Epoch: 1841 and Loss:   0.3779\n",
            "Epoch: 1851 and Loss:   0.3979\n",
            "Epoch: 1861 and Loss:   0.3947\n",
            "Epoch: 1871 and Loss:   0.4002\n",
            "Epoch: 1881 and Loss:   0.3807\n",
            "Epoch: 1891 and Loss:   0.3788\n",
            "Epoch: 1901 and Loss:   0.4015\n",
            "Epoch: 1911 and Loss:   0.3947\n",
            "Epoch: 1921 and Loss:   0.3783\n",
            "Epoch: 1931 and Loss:   0.3963\n",
            "Epoch: 1941 and Loss:   0.3792\n",
            "Epoch: 1951 and Loss:   0.3884\n",
            "Epoch: 1961 and Loss:   0.4014\n",
            "Epoch: 1971 and Loss:   0.4109\n",
            "Epoch: 1981 and Loss:   0.3796\n",
            "Epoch: 1991 and Loss:   0.4071\n",
            "Epoch: 2001 and Loss:   0.4003\n",
            "Epoch: 2011 and Loss:   0.3794\n",
            "Epoch: 2021 and Loss:   0.4091\n",
            "Epoch: 2031 and Loss:   0.3831\n",
            "Epoch: 2041 and Loss:   0.3771\n",
            "Epoch: 2051 and Loss:   0.3847\n",
            "Epoch: 2061 and Loss:   0.3781\n",
            "Epoch: 2071 and Loss:   0.3766\n",
            "Epoch: 2081 and Loss:   0.3833\n",
            "Epoch: 2091 and Loss:   0.4006\n",
            "Epoch: 2101 and Loss:   0.3666\n",
            "Epoch: 2111 and Loss:   0.3834\n",
            "Epoch: 2121 and Loss:   0.3805\n",
            "Epoch: 2131 and Loss:   0.3871\n",
            "Epoch: 2141 and Loss:   0.3978\n",
            "Epoch: 2151 and Loss:   0.3746\n",
            "Epoch: 2161 and Loss:   0.3921\n",
            "Epoch: 2171 and Loss:   0.4022\n",
            "Epoch: 2181 and Loss:   0.4154\n",
            "Epoch: 2191 and Loss:   0.3805\n",
            "Epoch: 2201 and Loss:   0.4010\n",
            "Epoch: 2211 and Loss:   0.3622\n",
            "Epoch: 2221 and Loss:   0.3990\n",
            "Epoch: 2231 and Loss:   0.3644\n",
            "Epoch: 2241 and Loss:   0.3927\n",
            "Epoch: 2251 and Loss:   0.3928\n",
            "Epoch: 2261 and Loss:   0.4100\n",
            "Epoch: 2271 and Loss:   0.3779\n",
            "Epoch: 2281 and Loss:   0.3890\n",
            "Epoch: 2291 and Loss:   0.3788\n",
            "Epoch: 2301 and Loss:   0.3748\n",
            "Epoch: 2311 and Loss:   0.3957\n",
            "Epoch: 2321 and Loss:   0.3672\n",
            "Epoch: 2331 and Loss:   0.3915\n",
            "Epoch: 2341 and Loss:   0.3866\n",
            "Epoch: 2351 and Loss:   0.3687\n",
            "Epoch: 2361 and Loss:   0.3880\n",
            "Epoch: 2371 and Loss:   0.3790\n",
            "Epoch: 2381 and Loss:   0.3782\n",
            "Epoch: 2391 and Loss:   0.3772\n",
            "Epoch: 2401 and Loss:   0.3948\n",
            "Epoch: 2411 and Loss:   0.3926\n",
            "Epoch: 2421 and Loss:   0.3771\n",
            "Epoch: 2431 and Loss:   0.3949\n",
            "Epoch: 2441 and Loss:   0.3854\n",
            "Epoch: 2451 and Loss:   0.3790\n",
            "Epoch: 2461 and Loss:   0.3882\n",
            "Epoch: 2471 and Loss:   0.3919\n",
            "Epoch: 2481 and Loss:   0.3697\n",
            "Epoch: 2491 and Loss:   0.3918\n",
            "Epoch: 2501 and Loss:   0.3765\n",
            "Epoch: 2511 and Loss:   0.3927\n",
            "Epoch: 2521 and Loss:   0.3709\n",
            "Epoch: 2531 and Loss:   0.3676\n",
            "Epoch: 2541 and Loss:   0.3815\n",
            "Epoch: 2551 and Loss:   0.4008\n",
            "Epoch: 2561 and Loss:   0.3735\n",
            "Epoch: 2571 and Loss:   0.3929\n",
            "Epoch: 2581 and Loss:   0.3881\n",
            "Epoch: 2591 and Loss:   0.3805\n",
            "Epoch: 2601 and Loss:   0.3805\n",
            "Epoch: 2611 and Loss:   0.3795\n",
            "Epoch: 2621 and Loss:   0.3937\n",
            "Epoch: 2631 and Loss:   0.3577\n",
            "Epoch: 2641 and Loss:   0.3752\n",
            "Epoch: 2651 and Loss:   0.4198\n",
            "Epoch: 2661 and Loss:   0.3859\n",
            "Epoch: 2671 and Loss:   0.3613\n",
            "Epoch: 2681 and Loss:   0.3768\n",
            "Epoch: 2691 and Loss:   0.4014\n",
            "Epoch: 2701 and Loss:   0.3598\n",
            "Epoch: 2711 and Loss:   0.3900\n",
            "Epoch: 2721 and Loss:   0.3800\n",
            "Epoch: 2731 and Loss:   0.3847\n",
            "Epoch: 2741 and Loss:   0.3852\n",
            "Epoch: 2751 and Loss:   0.3984\n",
            "Epoch: 2761 and Loss:   0.3734\n",
            "Epoch: 2771 and Loss:   0.3621\n",
            "Epoch: 2781 and Loss:   0.3645\n",
            "Epoch: 2791 and Loss:   0.3738\n",
            "Epoch: 2801 and Loss:   0.3865\n",
            "Epoch: 2811 and Loss:   0.3675\n",
            "Epoch: 2821 and Loss:   0.3580\n",
            "Epoch: 2831 and Loss:   0.3893\n",
            "Epoch: 2841 and Loss:   0.3812\n",
            "Epoch: 2851 and Loss:   0.3734\n",
            "Epoch: 2861 and Loss:   0.3798\n",
            "Epoch: 2871 and Loss:   0.3648\n",
            "Epoch: 2881 and Loss:   0.3971\n",
            "Epoch: 2891 and Loss:   0.3815\n",
            "Epoch: 2901 and Loss:   0.3694\n",
            "Epoch: 2911 and Loss:   0.3718\n",
            "Epoch: 2921 and Loss:   0.3903\n",
            "Epoch: 2931 and Loss:   0.3638\n",
            "Epoch: 2941 and Loss:   0.3616\n",
            "Epoch: 2951 and Loss:   0.3789\n",
            "Epoch: 2961 and Loss:   0.3653\n",
            "Epoch: 2971 and Loss:   0.3601\n",
            "Epoch: 2981 and Loss:   0.3602\n",
            "Epoch: 2991 and Loss:   0.3886\n",
            "epoch: 3000  loss: 0.36068407\n",
            "\n",
            "Duration: 54 seconds\n"
          ],
          "name": "stdout"
        }
      ]
    },
    {
      "cell_type": "code",
      "metadata": {
        "id": "PXcTZ9y9zKLc",
        "colab_type": "code",
        "colab": {
          "base_uri": "https://localhost:8080/",
          "height": 283
        },
        "outputId": "608588be-f995-460f-b342-1372bf89c2cb"
      },
      "source": [
        "plt.plot(range(epochs),losses)"
      ],
      "execution_count": 38,
      "outputs": [
        {
          "output_type": "execute_result",
          "data": {
            "text/plain": [
              "[<matplotlib.lines.Line2D at 0x7f6bf7f41278>]"
            ]
          },
          "metadata": {
            "tags": []
          },
          "execution_count": 38
        },
        {
          "output_type": "display_data",
          "data": {
            "image/png": "[encoded data removed]",
            "text/plain": [
              "<Figure size 432x288 with 1 Axes>"
            ]
          },
          "metadata": {
            "tags": [],
            "needs_background": "light"
          }
        }
      ]
    },
    {
      "cell_type": "markdown",
      "metadata": {
        "id": "mV5FIX_ulLKv",
        "colab_type": "text"
      },
      "source": [
        "Prediction"
      ]
    },
    {
      "cell_type": "code",
      "metadata": {
        "id": "b5Mhbm5s5CyT",
        "colab_type": "code",
        "colab": {}
      },
      "source": [
        "df2 = pd.read_csv('test.csv')"
      ],
      "execution_count": 43,
      "outputs": []
    },
    {
      "cell_type": "code",
      "metadata": {
        "id": "fgscYaWH5JUS",
        "colab_type": "code",
        "colab": {
          "base_uri": "https://localhost:8080/",
          "height": 424
        },
        "outputId": "ee10cfc3-c5cd-4aab-e02c-96f34006196a"
      },
      "source": [
        "df2"
      ],
      "execution_count": 44,
      "outputs": [
        {
          "output_type": "execute_result",
          "data": {
            "text/html": [
              "<div>\n",
              "<style scoped>\n",
              "    .dataframe tbody tr th:only-of-type {\n",
              "        vertical-align: middle;\n",
              "    }\n",
              "\n",
              "    .dataframe tbody tr th {\n",
              "        vertical-align: top;\n",
              "    }\n",
              "\n",
              "    .dataframe thead th {\n",
              "        text-align: right;\n",
              "    }\n",
              "</style>\n",
              "<table border=\"1\" class=\"dataframe\">\n",
              "  <thead>\n",
              "    <tr style=\"text-align: right;\">\n",
              "      <th></th>\n",
              "      <th>PassengerId</th>\n",
              "      <th>Pclass</th>\n",
              "      <th>Name</th>\n",
              "      <th>Sex</th>\n",
              "      <th>Age</th>\n",
              "      <th>SibSp</th>\n",
              "      <th>Parch</th>\n",
              "      <th>Ticket</th>\n",
              "      <th>Fare</th>\n",
              "      <th>Cabin</th>\n",
              "      <th>Embarked</th>\n",
              "    </tr>\n",
              "  </thead>\n",
              "  <tbody>\n",
              "    <tr>\n",
              "      <th>0</th>\n",
              "      <td>892</td>\n",
              "      <td>3</td>\n",
              "      <td>Kelly, Mr. James</td>\n",
              "      <td>male</td>\n",
              "      <td>34.5</td>\n",
              "      <td>0</td>\n",
              "      <td>0</td>\n",
              "      <td>330911</td>\n",
              "      <td>7.8292</td>\n",
              "      <td>NaN</td>\n",
              "      <td>Q</td>\n",
              "    </tr>\n",
              "    <tr>\n",
              "      <th>1</th>\n",
              "      <td>893</td>\n",
              "      <td>3</td>\n",
              "      <td>Wilkes, Mrs. James (Ellen Needs)</td>\n",
              "      <td>female</td>\n",
              "      <td>47.0</td>\n",
              "      <td>1</td>\n",
              "      <td>0</td>\n",
              "      <td>363272</td>\n",
              "      <td>7.0000</td>\n",
              "      <td>NaN</td>\n",
              "      <td>S</td>\n",
              "    </tr>\n",
              "    <tr>\n",
              "      <th>2</th>\n",
              "      <td>894</td>\n",
              "      <td>2</td>\n",
              "      <td>Myles, Mr. Thomas Francis</td>\n",
              "      <td>male</td>\n",
              "      <td>62.0</td>\n",
              "      <td>0</td>\n",
              "      <td>0</td>\n",
              "      <td>240276</td>\n",
              "      <td>9.6875</td>\n",
              "      <td>NaN</td>\n",
              "      <td>Q</td>\n",
              "    </tr>\n",
              "    <tr>\n",
              "      <th>3</th>\n",
              "      <td>895</td>\n",
              "      <td>3</td>\n",
              "      <td>Wirz, Mr. Albert</td>\n",
              "      <td>male</td>\n",
              "      <td>27.0</td>\n",
              "      <td>0</td>\n",
              "      <td>0</td>\n",
              "      <td>315154</td>\n",
              "      <td>8.6625</td>\n",
              "      <td>NaN</td>\n",
              "      <td>S</td>\n",
              "    </tr>\n",
              "    <tr>\n",
              "      <th>4</th>\n",
              "      <td>896</td>\n",
              "      <td>3</td>\n",
              "      <td>Hirvonen, Mrs. Alexander (Helga E Lindqvist)</td>\n",
              "      <td>female</td>\n",
              "      <td>22.0</td>\n",
              "      <td>1</td>\n",
              "      <td>1</td>\n",
              "      <td>3101298</td>\n",
              "      <td>12.2875</td>\n",
              "      <td>NaN</td>\n",
              "      <td>S</td>\n",
              "    </tr>\n",
              "    <tr>\n",
              "      <th>...</th>\n",
              "      <td>...</td>\n",
              "      <td>...</td>\n",
              "      <td>...</td>\n",
              "      <td>...</td>\n",
              "      <td>...</td>\n",
              "      <td>...</td>\n",
              "      <td>...</td>\n",
              "      <td>...</td>\n",
              "      <td>...</td>\n",
              "      <td>...</td>\n",
              "      <td>...</td>\n",
              "    </tr>\n",
              "    <tr>\n",
              "      <th>413</th>\n",
              "      <td>1305</td>\n",
              "      <td>3</td>\n",
              "      <td>Spector, Mr. Woolf</td>\n",
              "      <td>male</td>\n",
              "      <td>NaN</td>\n",
              "      <td>0</td>\n",
              "      <td>0</td>\n",
              "      <td>A.5. 3236</td>\n",
              "      <td>8.0500</td>\n",
              "      <td>NaN</td>\n",
              "      <td>S</td>\n",
              "    </tr>\n",
              "    <tr>\n",
              "      <th>414</th>\n",
              "      <td>1306</td>\n",
              "      <td>1</td>\n",
              "      <td>Oliva y Ocana, Dona. Fermina</td>\n",
              "      <td>female</td>\n",
              "      <td>39.0</td>\n",
              "      <td>0</td>\n",
              "      <td>0</td>\n",
              "      <td>PC 17758</td>\n",
              "      <td>108.9000</td>\n",
              "      <td>C105</td>\n",
              "      <td>C</td>\n",
              "    </tr>\n",
              "    <tr>\n",
              "      <th>415</th>\n",
              "      <td>1307</td>\n",
              "      <td>3</td>\n",
              "      <td>Saether, Mr. Simon Sivertsen</td>\n",
              "      <td>male</td>\n",
              "      <td>38.5</td>\n",
              "      <td>0</td>\n",
              "      <td>0</td>\n",
              "      <td>SOTON/O.Q. 3101262</td>\n",
              "      <td>7.2500</td>\n",
              "      <td>NaN</td>\n",
              "      <td>S</td>\n",
              "    </tr>\n",
              "    <tr>\n",
              "      <th>416</th>\n",
              "      <td>1308</td>\n",
              "      <td>3</td>\n",
              "      <td>Ware, Mr. Frederick</td>\n",
              "      <td>male</td>\n",
              "      <td>NaN</td>\n",
              "      <td>0</td>\n",
              "      <td>0</td>\n",
              "      <td>359309</td>\n",
              "      <td>8.0500</td>\n",
              "      <td>NaN</td>\n",
              "      <td>S</td>\n",
              "    </tr>\n",
              "    <tr>\n",
              "      <th>417</th>\n",
              "      <td>1309</td>\n",
              "      <td>3</td>\n",
              "      <td>Peter, Master. Michael J</td>\n",
              "      <td>male</td>\n",
              "      <td>NaN</td>\n",
              "      <td>1</td>\n",
              "      <td>1</td>\n",
              "      <td>2668</td>\n",
              "      <td>22.3583</td>\n",
              "      <td>NaN</td>\n",
              "      <td>C</td>\n",
              "    </tr>\n",
              "  </tbody>\n",
              "</table>\n",
              "<p>418 rows × 11 columns</p>\n",
              "</div>"
            ],
            "text/plain": [
              "     PassengerId  Pclass  ... Cabin Embarked\n",
              "0            892       3  ...   NaN        Q\n",
              "1            893       3  ...   NaN        S\n",
              "2            894       2  ...   NaN        Q\n",
              "3            895       3  ...   NaN        S\n",
              "4            896       3  ...   NaN        S\n",
              "..           ...     ...  ...   ...      ...\n",
              "413         1305       3  ...   NaN        S\n",
              "414         1306       1  ...  C105        C\n",
              "415         1307       3  ...   NaN        S\n",
              "416         1308       3  ...   NaN        S\n",
              "417         1309       3  ...   NaN        C\n",
              "\n",
              "[418 rows x 11 columns]"
            ]
          },
          "metadata": {
            "tags": []
          },
          "execution_count": 44
        }
      ]
    },
    {
      "cell_type": "code",
      "metadata": {
        "id": "c-1LRVbQR5uA",
        "colab_type": "code",
        "colab": {}
      },
      "source": [
        "df2.set_index('PassengerId',inplace=True)"
      ],
      "execution_count": 45,
      "outputs": []
    },
    {
      "cell_type": "code",
      "metadata": {
        "id": "jNrN6QmzTZ8L",
        "colab_type": "code",
        "colab": {
          "base_uri": "https://localhost:8080/",
          "height": 238
        },
        "outputId": "15e54e2d-dcc0-4be9-ed95-0990f9d042bb"
      },
      "source": [
        "df2.head()"
      ],
      "execution_count": 46,
      "outputs": [
        {
          "output_type": "execute_result",
          "data": {
            "text/html": [
              "<div>\n",
              "<style scoped>\n",
              "    .dataframe tbody tr th:only-of-type {\n",
              "        vertical-align: middle;\n",
              "    }\n",
              "\n",
              "    .dataframe tbody tr th {\n",
              "        vertical-align: top;\n",
              "    }\n",
              "\n",
              "    .dataframe thead th {\n",
              "        text-align: right;\n",
              "    }\n",
              "</style>\n",
              "<table border=\"1\" class=\"dataframe\">\n",
              "  <thead>\n",
              "    <tr style=\"text-align: right;\">\n",
              "      <th></th>\n",
              "      <th>Pclass</th>\n",
              "      <th>Name</th>\n",
              "      <th>Sex</th>\n",
              "      <th>Age</th>\n",
              "      <th>SibSp</th>\n",
              "      <th>Parch</th>\n",
              "      <th>Ticket</th>\n",
              "      <th>Fare</th>\n",
              "      <th>Cabin</th>\n",
              "      <th>Embarked</th>\n",
              "    </tr>\n",
              "    <tr>\n",
              "      <th>PassengerId</th>\n",
              "      <th></th>\n",
              "      <th></th>\n",
              "      <th></th>\n",
              "      <th></th>\n",
              "      <th></th>\n",
              "      <th></th>\n",
              "      <th></th>\n",
              "      <th></th>\n",
              "      <th></th>\n",
              "      <th></th>\n",
              "    </tr>\n",
              "  </thead>\n",
              "  <tbody>\n",
              "    <tr>\n",
              "      <th>892</th>\n",
              "      <td>3</td>\n",
              "      <td>Kelly, Mr. James</td>\n",
              "      <td>male</td>\n",
              "      <td>34.5</td>\n",
              "      <td>0</td>\n",
              "      <td>0</td>\n",
              "      <td>330911</td>\n",
              "      <td>7.8292</td>\n",
              "      <td>NaN</td>\n",
              "      <td>Q</td>\n",
              "    </tr>\n",
              "    <tr>\n",
              "      <th>893</th>\n",
              "      <td>3</td>\n",
              "      <td>Wilkes, Mrs. James (Ellen Needs)</td>\n",
              "      <td>female</td>\n",
              "      <td>47.0</td>\n",
              "      <td>1</td>\n",
              "      <td>0</td>\n",
              "      <td>363272</td>\n",
              "      <td>7.0000</td>\n",
              "      <td>NaN</td>\n",
              "      <td>S</td>\n",
              "    </tr>\n",
              "    <tr>\n",
              "      <th>894</th>\n",
              "      <td>2</td>\n",
              "      <td>Myles, Mr. Thomas Francis</td>\n",
              "      <td>male</td>\n",
              "      <td>62.0</td>\n",
              "      <td>0</td>\n",
              "      <td>0</td>\n",
              "      <td>240276</td>\n",
              "      <td>9.6875</td>\n",
              "      <td>NaN</td>\n",
              "      <td>Q</td>\n",
              "    </tr>\n",
              "    <tr>\n",
              "      <th>895</th>\n",
              "      <td>3</td>\n",
              "      <td>Wirz, Mr. Albert</td>\n",
              "      <td>male</td>\n",
              "      <td>27.0</td>\n",
              "      <td>0</td>\n",
              "      <td>0</td>\n",
              "      <td>315154</td>\n",
              "      <td>8.6625</td>\n",
              "      <td>NaN</td>\n",
              "      <td>S</td>\n",
              "    </tr>\n",
              "    <tr>\n",
              "      <th>896</th>\n",
              "      <td>3</td>\n",
              "      <td>Hirvonen, Mrs. Alexander (Helga E Lindqvist)</td>\n",
              "      <td>female</td>\n",
              "      <td>22.0</td>\n",
              "      <td>1</td>\n",
              "      <td>1</td>\n",
              "      <td>3101298</td>\n",
              "      <td>12.2875</td>\n",
              "      <td>NaN</td>\n",
              "      <td>S</td>\n",
              "    </tr>\n",
              "  </tbody>\n",
              "</table>\n",
              "</div>"
            ],
            "text/plain": [
              "             Pclass  ... Embarked\n",
              "PassengerId          ...         \n",
              "892               3  ...        Q\n",
              "893               3  ...        S\n",
              "894               2  ...        Q\n",
              "895               3  ...        S\n",
              "896               3  ...        S\n",
              "\n",
              "[5 rows x 10 columns]"
            ]
          },
          "metadata": {
            "tags": []
          },
          "execution_count": 46
        }
      ]
    },
    {
      "cell_type": "code",
      "metadata": {
        "id": "mhzqlYkoZvje",
        "colab_type": "code",
        "colab": {
          "base_uri": "https://localhost:8080/",
          "height": 324
        },
        "outputId": "d049f6ba-9507-48f0-f9b6-5402c99a86d0"
      },
      "source": [
        "sns.heatmap(df2.isnull(),yticklabels=False,cbar=False,cmap='viridis')"
      ],
      "execution_count": 47,
      "outputs": [
        {
          "output_type": "execute_result",
          "data": {
            "text/plain": [
              "<matplotlib.axes._subplots.AxesSubplot at 0x7f6bf7627080>"
            ]
          },
          "metadata": {
            "tags": []
          },
          "execution_count": 47
        },
        {
          "output_type": "display_data",
          "data": {
            "image/png": "[encoded data removed]",
            "text/plain": [
              "<Figure size 432x288 with 1 Axes>"
            ]
          },
          "metadata": {
            "tags": [],
            "needs_background": "light"
          }
        }
      ]
    },
    {
      "cell_type": "code",
      "metadata": {
        "id": "D4LWalhKXqmI",
        "colab_type": "code",
        "colab": {}
      },
      "source": [
        " df2.fillna(df2.mean(),inplace=True)"
      ],
      "execution_count": null,
      "outputs": []
    },
    {
      "cell_type": "code",
      "metadata": {
        "id": "u2l0Zpyql6HR",
        "colab_type": "code",
        "colab": {}
      },
      "source": [
        "df2['Age'] = df2[['Age','Pclass']].apply(impute_age,axis=1)"
      ],
      "execution_count": 48,
      "outputs": []
    },
    {
      "cell_type": "code",
      "metadata": {
        "id": "_PSW9h9fl8a5",
        "colab_type": "code",
        "colab": {}
      },
      "source": [
        "df2.drop('Cabin',axis=1,inplace=True)"
      ],
      "execution_count": 49,
      "outputs": []
    },
    {
      "cell_type": "code",
      "metadata": {
        "id": "U9C1bqjrmB0G",
        "colab_type": "code",
        "colab": {
          "base_uri": "https://localhost:8080/",
          "height": 283
        },
        "outputId": "df3c6d14-b795-467d-f0d4-489a95f4aee0"
      },
      "source": [
        "sns.heatmap(df2.isnull(),yticklabels=False,cbar=False,cmap='viridis')"
      ],
      "execution_count": 50,
      "outputs": [
        {
          "output_type": "execute_result",
          "data": {
            "text/plain": [
              "<matplotlib.axes._subplots.AxesSubplot at 0x7f6bf7f377b8>"
            ]
          },
          "metadata": {
            "tags": []
          },
          "execution_count": 50
        },
        {
          "output_type": "display_data",
          "data": {
            "image/png": "[encoded data removed]",
            "text/plain": [
              "<Figure size 432x288 with 1 Axes>"
            ]
          },
          "metadata": {
            "tags": [],
            "needs_background": "light"
          }
        }
      ]
    },
    {
      "cell_type": "code",
      "metadata": {
        "id": "l8lS4DLoTjyb",
        "colab_type": "code",
        "colab": {}
      },
      "source": [
        "df2['SibSp'].unique()"
      ],
      "execution_count": null,
      "outputs": []
    },
    {
      "cell_type": "code",
      "metadata": {
        "id": "uAxBLAz7Y3nM",
        "colab_type": "code",
        "colab": {
          "base_uri": "https://localhost:8080/",
          "height": 34
        },
        "outputId": "9cea40f7-e771-467a-9a94-bd33fb687d24"
      },
      "source": [
        "len(df2)"
      ],
      "execution_count": null,
      "outputs": [
        {
          "output_type": "execute_result",
          "data": {
            "text/plain": [
              "418"
            ]
          },
          "metadata": {
            "tags": []
          },
          "execution_count": 101
        }
      ]
    },
    {
      "cell_type": "code",
      "metadata": {
        "id": "q57yXglTXLGm",
        "colab_type": "code",
        "colab": {}
      },
      "source": [
        "cat_cols = ['Sex','Embarked','Pclass']\n",
        "cont_cols = ['Age','SibSp','Parch','Fare']\n",
        "y_col = ['Survived']"
      ],
      "execution_count": 51,
      "outputs": []
    },
    {
      "cell_type": "code",
      "metadata": {
        "id": "_-O5gBtXX1io",
        "colab_type": "code",
        "colab": {}
      },
      "source": [
        "for cat in cat_cols:\n",
        "    df2[cat] = df2[cat].astype('category')"
      ],
      "execution_count": 52,
      "outputs": []
    },
    {
      "cell_type": "code",
      "metadata": {
        "id": "FowOUq3FX784",
        "colab_type": "code",
        "colab": {}
      },
      "source": [
        "Sx = df2['Sex'].cat.codes.values\n",
        "Em = df2['Embarked'].cat.codes.values\n",
        "Pc = df2['Pclass'].cat.codes.values\n",
        "\n",
        "cats_t = np.stack([Sx,Em,Pc], 1)\n",
        "cats_t = torch.LongTensor(cats)"
      ],
      "execution_count": 53,
      "outputs": []
    },
    {
      "cell_type": "code",
      "metadata": {
        "id": "QKl9EA8cYMQE",
        "colab_type": "code",
        "colab": {}
      },
      "source": [
        "conts_t = np.stack([df2[col].values for col in cont_cols], 1)\n",
        "conts_t = torch.FloatTensor(conts)"
      ],
      "execution_count": 54,
      "outputs": []
    },
    {
      "cell_type": "code",
      "metadata": {
        "id": "FoE1IwskXDW5",
        "colab_type": "code",
        "colab": {}
      },
      "source": [
        "cat_test = cats_t\n",
        "con_test = conts_t\n"
      ],
      "execution_count": 55,
      "outputs": []
    },
    {
      "cell_type": "code",
      "metadata": {
        "id": "v60slWqe5CKv",
        "colab_type": "code",
        "colab": {}
      },
      "source": [
        "with torch.no_grad():\n",
        "    y_val = model(cat_test,con_test)\n",
        "    \n",
        "    "
      ],
      "execution_count": 56,
      "outputs": []
    },
    {
      "cell_type": "code",
      "metadata": {
        "id": "2hNIjpDEYwNK",
        "colab_type": "code",
        "colab": {
          "base_uri": "https://localhost:8080/",
          "height": 1000
        },
        "outputId": "17c3f896-0817-4ded-ee8a-602d64dc4714"
      },
      "source": [
        "Surviverlist = []\n",
        "for i in range(418):\n",
        "  Surviverlist.append([df2.index[i],y_val[i].argmax().numpy()])\n",
        "\n",
        "    \n",
        "  print('{}.) Predicted:: {:8.2f}'.format(df2.index[i],y_val[i].argmax().numpy()))"
      ],
      "execution_count": 57,
      "outputs": [
        {
          "output_type": "stream",
          "text": [
            "892.) Predicted::     0.00\n",
            "893.) Predicted::     1.00\n",
            "894.) Predicted::     0.00\n",
            "895.) Predicted::     1.00\n",
            "896.) Predicted::     0.00\n",
            "897.) Predicted::     0.00\n",
            "898.) Predicted::     0.00\n",
            "899.) Predicted::     0.00\n",
            "900.) Predicted::     1.00\n",
            "901.) Predicted::     1.00\n",
            "902.) Predicted::     1.00\n",
            "903.) Predicted::     0.00\n",
            "904.) Predicted::     0.00\n",
            "905.) Predicted::     0.00\n",
            "906.) Predicted::     0.00\n",
            "907.) Predicted::     0.00\n",
            "908.) Predicted::     0.00\n",
            "909.) Predicted::     0.00\n",
            "910.) Predicted::     0.00\n",
            "911.) Predicted::     0.00\n",
            "912.) Predicted::     1.00\n",
            "913.) Predicted::     0.00\n",
            "914.) Predicted::     0.00\n",
            "915.) Predicted::     1.00\n",
            "916.) Predicted::     0.00\n",
            "917.) Predicted::     0.00\n",
            "918.) Predicted::     0.00\n",
            "919.) Predicted::     1.00\n",
            "920.) Predicted::     1.00\n",
            "921.) Predicted::     0.00\n",
            "922.) Predicted::     0.00\n",
            "923.) Predicted::     1.00\n",
            "924.) Predicted::     0.00\n",
            "925.) Predicted::     0.00\n",
            "926.) Predicted::     1.00\n",
            "927.) Predicted::     0.00\n",
            "928.) Predicted::     0.00\n",
            "929.) Predicted::     0.00\n",
            "930.) Predicted::     0.00\n",
            "931.) Predicted::     1.00\n",
            "932.) Predicted::     0.00\n",
            "933.) Predicted::     0.00\n",
            "934.) Predicted::     0.00\n",
            "935.) Predicted::     1.00\n",
            "936.) Predicted::     1.00\n",
            "937.) Predicted::     0.00\n",
            "938.) Predicted::     0.00\n",
            "939.) Predicted::     1.00\n",
            "940.) Predicted::     0.00\n",
            "941.) Predicted::     0.00\n",
            "942.) Predicted::     0.00\n",
            "943.) Predicted::     0.00\n",
            "944.) Predicted::     1.00\n",
            "945.) Predicted::     1.00\n",
            "946.) Predicted::     0.00\n",
            "947.) Predicted::     0.00\n",
            "948.) Predicted::     1.00\n",
            "949.) Predicted::     0.00\n",
            "950.) Predicted::     1.00\n",
            "951.) Predicted::     0.00\n",
            "952.) Predicted::     0.00\n",
            "953.) Predicted::     1.00\n",
            "954.) Predicted::     0.00\n",
            "955.) Predicted::     0.00\n",
            "956.) Predicted::     1.00\n",
            "957.) Predicted::     0.00\n",
            "958.) Predicted::     0.00\n",
            "959.) Predicted::     1.00\n",
            "960.) Predicted::     0.00\n",
            "961.) Predicted::     0.00\n",
            "962.) Predicted::     0.00\n",
            "963.) Predicted::     1.00\n",
            "964.) Predicted::     0.00\n",
            "965.) Predicted::     0.00\n",
            "966.) Predicted::     0.00\n",
            "967.) Predicted::     0.00\n",
            "968.) Predicted::     0.00\n",
            "969.) Predicted::     1.00\n",
            "970.) Predicted::     1.00\n",
            "971.) Predicted::     0.00\n",
            "972.) Predicted::     0.00\n",
            "973.) Predicted::     0.00\n",
            "974.) Predicted::     1.00\n",
            "975.) Predicted::     1.00\n",
            "976.) Predicted::     1.00\n",
            "977.) Predicted::     0.00\n",
            "978.) Predicted::     0.00\n",
            "979.) Predicted::     1.00\n",
            "980.) Predicted::     0.00\n",
            "981.) Predicted::     0.00\n",
            "982.) Predicted::     0.00\n",
            "983.) Predicted::     1.00\n",
            "984.) Predicted::     0.00\n",
            "985.) Predicted::     0.00\n",
            "986.) Predicted::     0.00\n",
            "987.) Predicted::     0.00\n",
            "988.) Predicted::     1.00\n",
            "989.) Predicted::     1.00\n",
            "990.) Predicted::     0.00\n",
            "991.) Predicted::     0.00\n",
            "992.) Predicted::     0.00\n",
            "993.) Predicted::     0.00\n",
            "994.) Predicted::     0.00\n",
            "995.) Predicted::     0.00\n",
            "996.) Predicted::     0.00\n",
            "997.) Predicted::     1.00\n",
            "998.) Predicted::     0.00\n",
            "999.) Predicted::     0.00\n",
            "1000.) Predicted::     1.00\n",
            "1001.) Predicted::     0.00\n",
            "1002.) Predicted::     1.00\n",
            "1003.) Predicted::     0.00\n",
            "1004.) Predicted::     0.00\n",
            "1005.) Predicted::     0.00\n",
            "1006.) Predicted::     0.00\n",
            "1007.) Predicted::     0.00\n",
            "1008.) Predicted::     0.00\n",
            "1009.) Predicted::     0.00\n",
            "1010.) Predicted::     0.00\n",
            "1011.) Predicted::     0.00\n",
            "1012.) Predicted::     0.00\n",
            "1013.) Predicted::     0.00\n",
            "1014.) Predicted::     1.00\n",
            "1015.) Predicted::     0.00\n",
            "1016.) Predicted::     1.00\n",
            "1017.) Predicted::     0.00\n",
            "1018.) Predicted::     0.00\n",
            "1019.) Predicted::     1.00\n",
            "1020.) Predicted::     0.00\n",
            "1021.) Predicted::     0.00\n",
            "1022.) Predicted::     0.00\n",
            "1023.) Predicted::     0.00\n",
            "1024.) Predicted::     1.00\n",
            "1025.) Predicted::     0.00\n",
            "1026.) Predicted::     0.00\n",
            "1027.) Predicted::     1.00\n",
            "1028.) Predicted::     0.00\n",
            "1029.) Predicted::     0.00\n",
            "1030.) Predicted::     1.00\n",
            "1031.) Predicted::     1.00\n",
            "1032.) Predicted::     0.00\n",
            "1033.) Predicted::     1.00\n",
            "1034.) Predicted::     0.00\n",
            "1035.) Predicted::     0.00\n",
            "1036.) Predicted::     1.00\n",
            "1037.) Predicted::     0.00\n",
            "1038.) Predicted::     0.00\n",
            "1039.) Predicted::     1.00\n",
            "1040.) Predicted::     0.00\n",
            "1041.) Predicted::     0.00\n",
            "1042.) Predicted::     1.00\n",
            "1043.) Predicted::     0.00\n",
            "1044.) Predicted::     0.00\n",
            "1045.) Predicted::     0.00\n",
            "1046.) Predicted::     0.00\n",
            "1047.) Predicted::     1.00\n",
            "1048.) Predicted::     0.00\n",
            "1049.) Predicted::     0.00\n",
            "1050.) Predicted::     0.00\n",
            "1051.) Predicted::     0.00\n",
            "1052.) Predicted::     1.00\n",
            "1053.) Predicted::     0.00\n",
            "1054.) Predicted::     0.00\n",
            "1055.) Predicted::     0.00\n",
            "1056.) Predicted::     1.00\n",
            "1057.) Predicted::     0.00\n",
            "1058.) Predicted::     0.00\n",
            "1059.) Predicted::     0.00\n",
            "1060.) Predicted::     0.00\n",
            "1061.) Predicted::     0.00\n",
            "1062.) Predicted::     0.00\n",
            "1063.) Predicted::     1.00\n",
            "1064.) Predicted::     0.00\n",
            "1065.) Predicted::     0.00\n",
            "1066.) Predicted::     0.00\n",
            "1067.) Predicted::     0.00\n",
            "1068.) Predicted::     0.00\n",
            "1069.) Predicted::     0.00\n",
            "1070.) Predicted::     0.00\n",
            "1071.) Predicted::     0.00\n",
            "1072.) Predicted::     1.00\n",
            "1073.) Predicted::     0.00\n",
            "1074.) Predicted::     0.00\n",
            "1075.) Predicted::     1.00\n",
            "1076.) Predicted::     0.00\n",
            "1077.) Predicted::     0.00\n",
            "1078.) Predicted::     0.00\n",
            "1079.) Predicted::     0.00\n",
            "1080.) Predicted::     0.00\n",
            "1081.) Predicted::     1.00\n",
            "1082.) Predicted::     0.00\n",
            "1083.) Predicted::     0.00\n",
            "1084.) Predicted::     1.00\n",
            "1085.) Predicted::     1.00\n",
            "1086.) Predicted::     1.00\n",
            "1087.) Predicted::     0.00\n",
            "1088.) Predicted::     0.00\n",
            "1089.) Predicted::     0.00\n",
            "1090.) Predicted::     1.00\n",
            "1091.) Predicted::     0.00\n",
            "1092.) Predicted::     0.00\n",
            "1093.) Predicted::     0.00\n",
            "1094.) Predicted::     0.00\n",
            "1095.) Predicted::     0.00\n",
            "1096.) Predicted::     1.00\n",
            "1097.) Predicted::     0.00\n",
            "1098.) Predicted::     0.00\n",
            "1099.) Predicted::     0.00\n",
            "1100.) Predicted::     0.00\n",
            "1101.) Predicted::     0.00\n",
            "1102.) Predicted::     0.00\n",
            "1103.) Predicted::     0.00\n",
            "1104.) Predicted::     0.00\n",
            "1105.) Predicted::     0.00\n",
            "1106.) Predicted::     1.00\n",
            "1107.) Predicted::     1.00\n",
            "1108.) Predicted::     0.00\n",
            "1109.) Predicted::     1.00\n",
            "1110.) Predicted::     0.00\n",
            "1111.) Predicted::     0.00\n",
            "1112.) Predicted::     0.00\n",
            "1113.) Predicted::     0.00\n",
            "1114.) Predicted::     0.00\n",
            "1115.) Predicted::     1.00\n",
            "1116.) Predicted::     0.00\n",
            "1117.) Predicted::     0.00\n",
            "1118.) Predicted::     0.00\n",
            "1119.) Predicted::     0.00\n",
            "1120.) Predicted::     0.00\n",
            "1121.) Predicted::     1.00\n",
            "1122.) Predicted::     0.00\n",
            "1123.) Predicted::     0.00\n",
            "1124.) Predicted::     0.00\n",
            "1125.) Predicted::     0.00\n",
            "1126.) Predicted::     0.00\n",
            "1127.) Predicted::     0.00\n",
            "1128.) Predicted::     1.00\n",
            "1129.) Predicted::     0.00\n",
            "1130.) Predicted::     0.00\n",
            "1131.) Predicted::     0.00\n",
            "1132.) Predicted::     1.00\n",
            "1133.) Predicted::     0.00\n",
            "1134.) Predicted::     0.00\n",
            "1135.) Predicted::     0.00\n",
            "1136.) Predicted::     1.00\n",
            "1137.) Predicted::     0.00\n",
            "1138.) Predicted::     1.00\n",
            "1139.) Predicted::     1.00\n",
            "1140.) Predicted::     0.00\n",
            "1141.) Predicted::     0.00\n",
            "1142.) Predicted::     0.00\n",
            "1143.) Predicted::     0.00\n",
            "1144.) Predicted::     0.00\n",
            "1145.) Predicted::     0.00\n",
            "1146.) Predicted::     1.00\n",
            "1147.) Predicted::     1.00\n",
            "1148.) Predicted::     1.00\n",
            "1149.) Predicted::     1.00\n",
            "1150.) Predicted::     1.00\n",
            "1151.) Predicted::     0.00\n",
            "1152.) Predicted::     0.00\n",
            "1153.) Predicted::     0.00\n",
            "1154.) Predicted::     0.00\n",
            "1155.) Predicted::     1.00\n",
            "1156.) Predicted::     0.00\n",
            "1157.) Predicted::     0.00\n",
            "1158.) Predicted::     0.00\n",
            "1159.) Predicted::     1.00\n",
            "1160.) Predicted::     1.00\n",
            "1161.) Predicted::     0.00\n",
            "1162.) Predicted::     0.00\n",
            "1163.) Predicted::     1.00\n",
            "1164.) Predicted::     0.00\n",
            "1165.) Predicted::     1.00\n",
            "1166.) Predicted::     1.00\n",
            "1167.) Predicted::     0.00\n",
            "1168.) Predicted::     0.00\n",
            "1169.) Predicted::     0.00\n",
            "1170.) Predicted::     1.00\n",
            "1171.) Predicted::     0.00\n",
            "1172.) Predicted::     0.00\n",
            "1173.) Predicted::     0.00\n",
            "1174.) Predicted::     0.00\n",
            "1175.) Predicted::     1.00\n",
            "1176.) Predicted::     0.00\n",
            "1177.) Predicted::     0.00\n",
            "1178.) Predicted::     0.00\n",
            "1179.) Predicted::     0.00\n",
            "1180.) Predicted::     0.00\n",
            "1181.) Predicted::     1.00\n",
            "1182.) Predicted::     1.00\n",
            "1183.) Predicted::     1.00\n",
            "1184.) Predicted::     0.00\n",
            "1185.) Predicted::     0.00\n",
            "1186.) Predicted::     0.00\n",
            "1187.) Predicted::     0.00\n",
            "1188.) Predicted::     1.00\n",
            "1189.) Predicted::     1.00\n",
            "1190.) Predicted::     1.00\n",
            "1191.) Predicted::     1.00\n",
            "1192.) Predicted::     0.00\n",
            "1193.) Predicted::     1.00\n",
            "1194.) Predicted::     1.00\n",
            "1195.) Predicted::     0.00\n",
            "1196.) Predicted::     1.00\n",
            "1197.) Predicted::     1.00\n",
            "1198.) Predicted::     1.00\n",
            "1199.) Predicted::     0.00\n",
            "1200.) Predicted::     1.00\n",
            "1201.) Predicted::     1.00\n",
            "1202.) Predicted::     1.00\n",
            "1203.) Predicted::     1.00\n",
            "1204.) Predicted::     0.00\n",
            "1205.) Predicted::     0.00\n",
            "1206.) Predicted::     0.00\n",
            "1207.) Predicted::     1.00\n",
            "1208.) Predicted::     0.00\n",
            "1209.) Predicted::     0.00\n",
            "1210.) Predicted::     1.00\n",
            "1211.) Predicted::     0.00\n",
            "1212.) Predicted::     0.00\n",
            "1213.) Predicted::     1.00\n",
            "1214.) Predicted::     1.00\n",
            "1215.) Predicted::     0.00\n",
            "1216.) Predicted::     1.00\n",
            "1217.) Predicted::     0.00\n",
            "1218.) Predicted::     0.00\n",
            "1219.) Predicted::     1.00\n",
            "1220.) Predicted::     1.00\n",
            "1221.) Predicted::     1.00\n",
            "1222.) Predicted::     0.00\n",
            "1223.) Predicted::     0.00\n",
            "1224.) Predicted::     0.00\n",
            "1225.) Predicted::     1.00\n",
            "1226.) Predicted::     0.00\n",
            "1227.) Predicted::     1.00\n",
            "1228.) Predicted::     1.00\n",
            "1229.) Predicted::     0.00\n",
            "1230.) Predicted::     0.00\n",
            "1231.) Predicted::     1.00\n",
            "1232.) Predicted::     1.00\n",
            "1233.) Predicted::     0.00\n",
            "1234.) Predicted::     0.00\n",
            "1235.) Predicted::     0.00\n",
            "1236.) Predicted::     0.00\n",
            "1237.) Predicted::     1.00\n",
            "1238.) Predicted::     1.00\n",
            "1239.) Predicted::     1.00\n",
            "1240.) Predicted::     0.00\n",
            "1241.) Predicted::     0.00\n",
            "1242.) Predicted::     0.00\n",
            "1243.) Predicted::     0.00\n",
            "1244.) Predicted::     0.00\n",
            "1245.) Predicted::     0.00\n",
            "1246.) Predicted::     0.00\n",
            "1247.) Predicted::     1.00\n",
            "1248.) Predicted::     0.00\n",
            "1249.) Predicted::     1.00\n",
            "1250.) Predicted::     1.00\n",
            "1251.) Predicted::     0.00\n",
            "1252.) Predicted::     0.00\n",
            "1253.) Predicted::     0.00\n",
            "1254.) Predicted::     0.00\n",
            "1255.) Predicted::     0.00\n",
            "1256.) Predicted::     0.00\n",
            "1257.) Predicted::     1.00\n",
            "1258.) Predicted::     1.00\n",
            "1259.) Predicted::     1.00\n",
            "1260.) Predicted::     1.00\n",
            "1261.) Predicted::     1.00\n",
            "1262.) Predicted::     0.00\n",
            "1263.) Predicted::     0.00\n",
            "1264.) Predicted::     0.00\n",
            "1265.) Predicted::     0.00\n",
            "1266.) Predicted::     1.00\n",
            "1267.) Predicted::     1.00\n",
            "1268.) Predicted::     0.00\n",
            "1269.) Predicted::     1.00\n",
            "1270.) Predicted::     0.00\n",
            "1271.) Predicted::     1.00\n",
            "1272.) Predicted::     1.00\n",
            "1273.) Predicted::     0.00\n",
            "1274.) Predicted::     1.00\n",
            "1275.) Predicted::     0.00\n",
            "1276.) Predicted::     0.00\n",
            "1277.) Predicted::     0.00\n",
            "1278.) Predicted::     0.00\n",
            "1279.) Predicted::     0.00\n",
            "1280.) Predicted::     1.00\n",
            "1281.) Predicted::     1.00\n",
            "1282.) Predicted::     0.00\n",
            "1283.) Predicted::     0.00\n",
            "1284.) Predicted::     1.00\n",
            "1285.) Predicted::     1.00\n",
            "1286.) Predicted::     0.00\n",
            "1287.) Predicted::     0.00\n",
            "1288.) Predicted::     0.00\n",
            "1289.) Predicted::     0.00\n",
            "1290.) Predicted::     1.00\n",
            "1291.) Predicted::     0.00\n",
            "1292.) Predicted::     0.00\n",
            "1293.) Predicted::     1.00\n",
            "1294.) Predicted::     0.00\n",
            "1295.) Predicted::     0.00\n",
            "1296.) Predicted::     0.00\n",
            "1297.) Predicted::     0.00\n",
            "1298.) Predicted::     1.00\n",
            "1299.) Predicted::     0.00\n",
            "1300.) Predicted::     0.00\n",
            "1301.) Predicted::     0.00\n",
            "1302.) Predicted::     0.00\n",
            "1303.) Predicted::     1.00\n",
            "1304.) Predicted::     0.00\n",
            "1305.) Predicted::     0.00\n",
            "1306.) Predicted::     0.00\n",
            "1307.) Predicted::     1.00\n",
            "1308.) Predicted::     1.00\n",
            "1309.) Predicted::     0.00\n"
          ],
          "name": "stdout"
        }
      ]
    },
    {
      "cell_type": "code",
      "metadata": {
        "id": "AhCBNMY8bTZc",
        "colab_type": "code",
        "colab": {
          "base_uri": "https://localhost:8080/",
          "height": 1000
        },
        "outputId": "4433e63c-f021-48b4-87fa-018fce2237e2"
      },
      "source": [
        "Surviverlist"
      ],
      "execution_count": 58,
      "outputs": [
        {
          "output_type": "execute_result",
          "data": {
            "text/plain": [
              "[[892, array(0)],\n",
              " [893, array(1)],\n",
              " [894, array(0)],\n",
              " [895, array(1)],\n",
              " [896, array(0)],\n",
              " [897, array(0)],\n",
              " [898, array(0)],\n",
              " [899, array(0)],\n",
              " [900, array(1)],\n",
              " [901, array(1)],\n",
              " [902, array(1)],\n",
              " [903, array(0)],\n",
              " [904, array(0)],\n",
              " [905, array(0)],\n",
              " [906, array(0)],\n",
              " [907, array(0)],\n",
              " [908, array(0)],\n",
              " [909, array(0)],\n",
              " [910, array(0)],\n",
              " [911, array(0)],\n",
              " [912, array(1)],\n",
              " [913, array(0)],\n",
              " [914, array(0)],\n",
              " [915, array(1)],\n",
              " [916, array(0)],\n",
              " [917, array(0)],\n",
              " [918, array(0)],\n",
              " [919, array(1)],\n",
              " [920, array(1)],\n",
              " [921, array(0)],\n",
              " [922, array(0)],\n",
              " [923, array(1)],\n",
              " [924, array(0)],\n",
              " [925, array(0)],\n",
              " [926, array(1)],\n",
              " [927, array(0)],\n",
              " [928, array(0)],\n",
              " [929, array(0)],\n",
              " [930, array(0)],\n",
              " [931, array(1)],\n",
              " [932, array(0)],\n",
              " [933, array(0)],\n",
              " [934, array(0)],\n",
              " [935, array(1)],\n",
              " [936, array(1)],\n",
              " [937, array(0)],\n",
              " [938, array(0)],\n",
              " [939, array(1)],\n",
              " [940, array(0)],\n",
              " [941, array(0)],\n",
              " [942, array(0)],\n",
              " [943, array(0)],\n",
              " [944, array(1)],\n",
              " [945, array(1)],\n",
              " [946, array(0)],\n",
              " [947, array(0)],\n",
              " [948, array(1)],\n",
              " [949, array(0)],\n",
              " [950, array(1)],\n",
              " [951, array(0)],\n",
              " [952, array(0)],\n",
              " [953, array(1)],\n",
              " [954, array(0)],\n",
              " [955, array(0)],\n",
              " [956, array(1)],\n",
              " [957, array(0)],\n",
              " [958, array(0)],\n",
              " [959, array(1)],\n",
              " [960, array(0)],\n",
              " [961, array(0)],\n",
              " [962, array(0)],\n",
              " [963, array(1)],\n",
              " [964, array(0)],\n",
              " [965, array(0)],\n",
              " [966, array(0)],\n",
              " [967, array(0)],\n",
              " [968, array(0)],\n",
              " [969, array(1)],\n",
              " [970, array(1)],\n",
              " [971, array(0)],\n",
              " [972, array(0)],\n",
              " [973, array(0)],\n",
              " [974, array(1)],\n",
              " [975, array(1)],\n",
              " [976, array(1)],\n",
              " [977, array(0)],\n",
              " [978, array(0)],\n",
              " [979, array(1)],\n",
              " [980, array(0)],\n",
              " [981, array(0)],\n",
              " [982, array(0)],\n",
              " [983, array(1)],\n",
              " [984, array(0)],\n",
              " [985, array(0)],\n",
              " [986, array(0)],\n",
              " [987, array(0)],\n",
              " [988, array(1)],\n",
              " [989, array(1)],\n",
              " [990, array(0)],\n",
              " [991, array(0)],\n",
              " [992, array(0)],\n",
              " [993, array(0)],\n",
              " [994, array(0)],\n",
              " [995, array(0)],\n",
              " [996, array(0)],\n",
              " [997, array(1)],\n",
              " [998, array(0)],\n",
              " [999, array(0)],\n",
              " [1000, array(1)],\n",
              " [1001, array(0)],\n",
              " [1002, array(1)],\n",
              " [1003, array(0)],\n",
              " [1004, array(0)],\n",
              " [1005, array(0)],\n",
              " [1006, array(0)],\n",
              " [1007, array(0)],\n",
              " [1008, array(0)],\n",
              " [1009, array(0)],\n",
              " [1010, array(0)],\n",
              " [1011, array(0)],\n",
              " [1012, array(0)],\n",
              " [1013, array(0)],\n",
              " [1014, array(1)],\n",
              " [1015, array(0)],\n",
              " [1016, array(1)],\n",
              " [1017, array(0)],\n",
              " [1018, array(0)],\n",
              " [1019, array(1)],\n",
              " [1020, array(0)],\n",
              " [1021, array(0)],\n",
              " [1022, array(0)],\n",
              " [1023, array(0)],\n",
              " [1024, array(1)],\n",
              " [1025, array(0)],\n",
              " [1026, array(0)],\n",
              " [1027, array(1)],\n",
              " [1028, array(0)],\n",
              " [1029, array(0)],\n",
              " [1030, array(1)],\n",
              " [1031, array(1)],\n",
              " [1032, array(0)],\n",
              " [1033, array(1)],\n",
              " [1034, array(0)],\n",
              " [1035, array(0)],\n",
              " [1036, array(1)],\n",
              " [1037, array(0)],\n",
              " [1038, array(0)],\n",
              " [1039, array(1)],\n",
              " [1040, array(0)],\n",
              " [1041, array(0)],\n",
              " [1042, array(1)],\n",
              " [1043, array(0)],\n",
              " [1044, array(0)],\n",
              " [1045, array(0)],\n",
              " [1046, array(0)],\n",
              " [1047, array(1)],\n",
              " [1048, array(0)],\n",
              " [1049, array(0)],\n",
              " [1050, array(0)],\n",
              " [1051, array(0)],\n",
              " [1052, array(1)],\n",
              " [1053, array(0)],\n",
              " [1054, array(0)],\n",
              " [1055, array(0)],\n",
              " [1056, array(1)],\n",
              " [1057, array(0)],\n",
              " [1058, array(0)],\n",
              " [1059, array(0)],\n",
              " [1060, array(0)],\n",
              " [1061, array(0)],\n",
              " [1062, array(0)],\n",
              " [1063, array(1)],\n",
              " [1064, array(0)],\n",
              " [1065, array(0)],\n",
              " [1066, array(0)],\n",
              " [1067, array(0)],\n",
              " [1068, array(0)],\n",
              " [1069, array(0)],\n",
              " [1070, array(0)],\n",
              " [1071, array(0)],\n",
              " [1072, array(1)],\n",
              " [1073, array(0)],\n",
              " [1074, array(0)],\n",
              " [1075, array(1)],\n",
              " [1076, array(0)],\n",
              " [1077, array(0)],\n",
              " [1078, array(0)],\n",
              " [1079, array(0)],\n",
              " [1080, array(0)],\n",
              " [1081, array(1)],\n",
              " [1082, array(0)],\n",
              " [1083, array(0)],\n",
              " [1084, array(1)],\n",
              " [1085, array(1)],\n",
              " [1086, array(1)],\n",
              " [1087, array(0)],\n",
              " [1088, array(0)],\n",
              " [1089, array(0)],\n",
              " [1090, array(1)],\n",
              " [1091, array(0)],\n",
              " [1092, array(0)],\n",
              " [1093, array(0)],\n",
              " [1094, array(0)],\n",
              " [1095, array(0)],\n",
              " [1096, array(1)],\n",
              " [1097, array(0)],\n",
              " [1098, array(0)],\n",
              " [1099, array(0)],\n",
              " [1100, array(0)],\n",
              " [1101, array(0)],\n",
              " [1102, array(0)],\n",
              " [1103, array(0)],\n",
              " [1104, array(0)],\n",
              " [1105, array(0)],\n",
              " [1106, array(1)],\n",
              " [1107, array(1)],\n",
              " [1108, array(0)],\n",
              " [1109, array(1)],\n",
              " [1110, array(0)],\n",
              " [1111, array(0)],\n",
              " [1112, array(0)],\n",
              " [1113, array(0)],\n",
              " [1114, array(0)],\n",
              " [1115, array(1)],\n",
              " [1116, array(0)],\n",
              " [1117, array(0)],\n",
              " [1118, array(0)],\n",
              " [1119, array(0)],\n",
              " [1120, array(0)],\n",
              " [1121, array(1)],\n",
              " [1122, array(0)],\n",
              " [1123, array(0)],\n",
              " [1124, array(0)],\n",
              " [1125, array(0)],\n",
              " [1126, array(0)],\n",
              " [1127, array(0)],\n",
              " [1128, array(1)],\n",
              " [1129, array(0)],\n",
              " [1130, array(0)],\n",
              " [1131, array(0)],\n",
              " [1132, array(1)],\n",
              " [1133, array(0)],\n",
              " [1134, array(0)],\n",
              " [1135, array(0)],\n",
              " [1136, array(1)],\n",
              " [1137, array(0)],\n",
              " [1138, array(1)],\n",
              " [1139, array(1)],\n",
              " [1140, array(0)],\n",
              " [1141, array(0)],\n",
              " [1142, array(0)],\n",
              " [1143, array(0)],\n",
              " [1144, array(0)],\n",
              " [1145, array(0)],\n",
              " [1146, array(1)],\n",
              " [1147, array(1)],\n",
              " [1148, array(1)],\n",
              " [1149, array(1)],\n",
              " [1150, array(1)],\n",
              " [1151, array(0)],\n",
              " [1152, array(0)],\n",
              " [1153, array(0)],\n",
              " [1154, array(0)],\n",
              " [1155, array(1)],\n",
              " [1156, array(0)],\n",
              " [1157, array(0)],\n",
              " [1158, array(0)],\n",
              " [1159, array(1)],\n",
              " [1160, array(1)],\n",
              " [1161, array(0)],\n",
              " [1162, array(0)],\n",
              " [1163, array(1)],\n",
              " [1164, array(0)],\n",
              " [1165, array(1)],\n",
              " [1166, array(1)],\n",
              " [1167, array(0)],\n",
              " [1168, array(0)],\n",
              " [1169, array(0)],\n",
              " [1170, array(1)],\n",
              " [1171, array(0)],\n",
              " [1172, array(0)],\n",
              " [1173, array(0)],\n",
              " [1174, array(0)],\n",
              " [1175, array(1)],\n",
              " [1176, array(0)],\n",
              " [1177, array(0)],\n",
              " [1178, array(0)],\n",
              " [1179, array(0)],\n",
              " [1180, array(0)],\n",
              " [1181, array(1)],\n",
              " [1182, array(1)],\n",
              " [1183, array(1)],\n",
              " [1184, array(0)],\n",
              " [1185, array(0)],\n",
              " [1186, array(0)],\n",
              " [1187, array(0)],\n",
              " [1188, array(1)],\n",
              " [1189, array(1)],\n",
              " [1190, array(1)],\n",
              " [1191, array(1)],\n",
              " [1192, array(0)],\n",
              " [1193, array(1)],\n",
              " [1194, array(1)],\n",
              " [1195, array(0)],\n",
              " [1196, array(1)],\n",
              " [1197, array(1)],\n",
              " [1198, array(1)],\n",
              " [1199, array(0)],\n",
              " [1200, array(1)],\n",
              " [1201, array(1)],\n",
              " [1202, array(1)],\n",
              " [1203, array(1)],\n",
              " [1204, array(0)],\n",
              " [1205, array(0)],\n",
              " [1206, array(0)],\n",
              " [1207, array(1)],\n",
              " [1208, array(0)],\n",
              " [1209, array(0)],\n",
              " [1210, array(1)],\n",
              " [1211, array(0)],\n",
              " [1212, array(0)],\n",
              " [1213, array(1)],\n",
              " [1214, array(1)],\n",
              " [1215, array(0)],\n",
              " [1216, array(1)],\n",
              " [1217, array(0)],\n",
              " [1218, array(0)],\n",
              " [1219, array(1)],\n",
              " [1220, array(1)],\n",
              " [1221, array(1)],\n",
              " [1222, array(0)],\n",
              " [1223, array(0)],\n",
              " [1224, array(0)],\n",
              " [1225, array(1)],\n",
              " [1226, array(0)],\n",
              " [1227, array(1)],\n",
              " [1228, array(1)],\n",
              " [1229, array(0)],\n",
              " [1230, array(0)],\n",
              " [1231, array(1)],\n",
              " [1232, array(1)],\n",
              " [1233, array(0)],\n",
              " [1234, array(0)],\n",
              " [1235, array(0)],\n",
              " [1236, array(0)],\n",
              " [1237, array(1)],\n",
              " [1238, array(1)],\n",
              " [1239, array(1)],\n",
              " [1240, array(0)],\n",
              " [1241, array(0)],\n",
              " [1242, array(0)],\n",
              " [1243, array(0)],\n",
              " [1244, array(0)],\n",
              " [1245, array(0)],\n",
              " [1246, array(0)],\n",
              " [1247, array(1)],\n",
              " [1248, array(0)],\n",
              " [1249, array(1)],\n",
              " [1250, array(1)],\n",
              " [1251, array(0)],\n",
              " [1252, array(0)],\n",
              " [1253, array(0)],\n",
              " [1254, array(0)],\n",
              " [1255, array(0)],\n",
              " [1256, array(0)],\n",
              " [1257, array(1)],\n",
              " [1258, array(1)],\n",
              " [1259, array(1)],\n",
              " [1260, array(1)],\n",
              " [1261, array(1)],\n",
              " [1262, array(0)],\n",
              " [1263, array(0)],\n",
              " [1264, array(0)],\n",
              " [1265, array(0)],\n",
              " [1266, array(1)],\n",
              " [1267, array(1)],\n",
              " [1268, array(0)],\n",
              " [1269, array(1)],\n",
              " [1270, array(0)],\n",
              " [1271, array(1)],\n",
              " [1272, array(1)],\n",
              " [1273, array(0)],\n",
              " [1274, array(1)],\n",
              " [1275, array(0)],\n",
              " [1276, array(0)],\n",
              " [1277, array(0)],\n",
              " [1278, array(0)],\n",
              " [1279, array(0)],\n",
              " [1280, array(1)],\n",
              " [1281, array(1)],\n",
              " [1282, array(0)],\n",
              " [1283, array(0)],\n",
              " [1284, array(1)],\n",
              " [1285, array(1)],\n",
              " [1286, array(0)],\n",
              " [1287, array(0)],\n",
              " [1288, array(0)],\n",
              " [1289, array(0)],\n",
              " [1290, array(1)],\n",
              " [1291, array(0)],\n",
              " [1292, array(0)],\n",
              " [1293, array(1)],\n",
              " [1294, array(0)],\n",
              " [1295, array(0)],\n",
              " [1296, array(0)],\n",
              " [1297, array(0)],\n",
              " [1298, array(1)],\n",
              " [1299, array(0)],\n",
              " [1300, array(0)],\n",
              " [1301, array(0)],\n",
              " [1302, array(0)],\n",
              " [1303, array(1)],\n",
              " [1304, array(0)],\n",
              " [1305, array(0)],\n",
              " [1306, array(0)],\n",
              " [1307, array(1)],\n",
              " [1308, array(1)],\n",
              " [1309, array(0)]]"
            ]
          },
          "metadata": {
            "tags": []
          },
          "execution_count": 58
        }
      ]
    },
    {
      "cell_type": "code",
      "metadata": {
        "id": "TcD8nm7Rbj6r",
        "colab_type": "code",
        "colab": {}
      },
      "source": [
        "df3 = pd.DataFrame(Surviverlist)"
      ],
      "execution_count": 59,
      "outputs": []
    },
    {
      "cell_type": "code",
      "metadata": {
        "id": "Xk1roaAweDDr",
        "colab_type": "code",
        "colab": {}
      },
      "source": [
        "df3.to_excel(r'C:\\sample_data\\submission.xlsx', index = False)"
      ],
      "execution_count": 60,
      "outputs": []
    },
    {
      "cell_type": "code",
      "metadata": {
        "id": "7FdksTmdmR89",
        "colab_type": "code",
        "colab": {}
      },
      "source": [
        ""
      ],
      "execution_count": null,
      "outputs": []
    }
  ]
}